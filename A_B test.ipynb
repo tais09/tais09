{
 "cells": [
  {
   "cell_type": "markdown",
   "metadata": {},
   "source": [
    "# Приоритизация гипотез. Анализ А/В- теста."
   ]
  },
  {
   "cell_type": "markdown",
   "metadata": {},
   "source": [
    "Для увеличения выручки нашего интернет-магазина совместно с отделом маркетинга подготовили список гипотез, которые нам необходимо приоритезировать, запустить А/В-тест, проанализировать результаты и внести предложения."
   ]
  },
  {
   "cell_type": "markdown",
   "metadata": {},
   "source": [
    "### 1. Описание данных"
   ]
  },
  {
   "cell_type": "markdown",
   "metadata": {},
   "source": [
    "#### 1.1 Описание данных гипотез\n",
    "\n",
    "1. `Hypothesis` — краткое описание гипотезы;\n",
    "2.`Reach` — охват пользователей по 10-балльной шкале;\n",
    "3.`Impact` — влияние на пользователей по 10-балльной шкале;\n",
    "4. `Confidence` — уверенность в гипотезе по 10-балльной шкале;\n",
    "5. `Efforts` — затраты ресурсов на проверку гипотезы по 10-балльной шкале. Чем больше значение Efforts, тем дороже проверка гипотезы.\n",
    "\n",
    "\n",
    "Наша задача: приоритизировать гипотезы. Выполнять это будем при помощи фреймвокров ICE и RICE, посмотрим,изменится ли последовательность приоритизации гипотез взависимости от метода и ,если необходимо, разберемся почему.\n",
    "\n",
    "\n",
    "#### 1.2 Описание данных для Анализ A/B-теста\n",
    "\n",
    "Файл ` /datasets/orders.csv.` \n",
    "1. `transactionId` — идентификатор заказа;\n",
    "2.`visitorId` — идентификатор пользователя, совершившего заказ;\n",
    "3.`date` — дата, когда был совершён заказ;\n",
    "4.`revenue` — выручка заказа;\n",
    "5.`group` — группа A/B-теста, в которую попал заказ.\n",
    "\n",
    "Файл `/datasets/visitors.csv.`\n",
    "\n",
    "1. `date` — дата;\n",
    "2.`group` — группа A/B-теста;\n",
    "3.`visitors` — количество пользователей в указанную дату в указанной группе A/B-теста \n",
    "\n",
    "   A/B-тест проведен, результаты получены, они находятся в следующих файлах `/datasets/orders.csv` и `/datasets/visitors.csv.` \n",
    "\n",
    "\n",
    "   Наша задача: проанализировать A/B-тест, а именно построим \n",
    "\n",
    "\n",
    "* график кумулятивной выручки по группам. \n",
    "* график кумулятивного среднего чека по группам. \n",
    "* график относительного изменения кумулятивного среднего чека группы B к группе A. \n",
    "* график кумулятивной конверсии по группам. \n",
    "* график относительного изменения кумулятивной конверсии группы B к группе A. \n",
    "* точечный график количества заказов по пользователям. \n",
    "* посчитаем 95-й и 99-й перцентили количества заказов на пользователя. Выберем границу для определения аномальных пользователей.  \n",
    "* точечный график стоимостей заказов.  \n",
    "   Затем посчитаем:\n",
    "* 95-й и 99-й перцентили стоимости заказов. Выберем границу для определения аномальных заказов.\n",
    "* статистическую значимость различий в конверсии между группами по «сырым» данным. \n",
    "* статистическую значимость различий в среднем чеке заказа между группами по «сырым» данным. \n",
    "* статистическую значимость различий в конверсии между группами по «очищенным» данным. \n",
    "* статистическую значимость различий в среднем чеке заказа между группами по «очищенным» данным.  \n",
    "\n",
    "  По каждому из выше перечисленных пунктов мы сделаем  отдельные выводы и предположения, после чего примем финальное решение: либо остановим тест, выявив победу одной из групп или же наоборот установив, что различий нет, либо продолжим тест.  \n",
    "\n",
    "\n",
    "\n"
   ]
  },
  {
   "cell_type": "markdown",
   "metadata": {},
   "source": [
    "### 2. Импортируем библиотеки."
   ]
  },
  {
   "cell_type": "code",
   "execution_count": 1,
   "metadata": {},
   "outputs": [],
   "source": [
    "import pandas as pd\n",
    "import numpy as np\n",
    "import datetime as dt\n",
    "from pandas.plotting import register_matplotlib_converters\n",
    "import matplotlib.pyplot as plt\n",
    "import scipy.stats as stats\n",
    "\n",
    "import warnings\n",
    "register_matplotlib_converters()"
   ]
  },
  {
   "cell_type": "code",
   "execution_count": 2,
   "metadata": {},
   "outputs": [],
   "source": [
    "try:\n",
    "    hypothesis = pd.read_csv('C:\\\\Users\\\\Admin\\\\Documents\\\\Yandex.practicum\\\\Project\\\\AB test\\\\hypothesis.csv')\n",
    "    orders = pd.read_csv('C:\\\\Users\\\\Admin\\\\Documents\\\\Yandex.practicum\\\\Project\\\\AB test\\\\orders.csv')\n",
    "    visitors = pd.read_csv('C:\\\\Users\\\\Admin\\\\Documents\\\\Yandex.practicum\\\\Project\\\\AB test\\\\visitors.csv')\n",
    "except:\n",
    "    hypothesis = pd.read_csv('/datasets/hypothesis.csv')\n",
    "    orders = pd.read_csv('/datasets/orders.csv')\n",
    "    visitors = pd.read_csv('/datasets/visitors.csv')\n"
   ]
  },
  {
   "cell_type": "markdown",
   "metadata": {},
   "source": [
    "### 3. Приоритизация гипотез"
   ]
  },
  {
   "cell_type": "code",
   "execution_count": 4,
   "metadata": {},
   "outputs": [
    {
     "data": {
      "text/html": [
       "<div>\n",
       "<style scoped>\n",
       "    .dataframe tbody tr th:only-of-type {\n",
       "        vertical-align: middle;\n",
       "    }\n",
       "\n",
       "    .dataframe tbody tr th {\n",
       "        vertical-align: top;\n",
       "    }\n",
       "\n",
       "    .dataframe thead th {\n",
       "        text-align: right;\n",
       "    }\n",
       "</style>\n",
       "<table border=\"1\" class=\"dataframe\">\n",
       "  <thead>\n",
       "    <tr style=\"text-align: right;\">\n",
       "      <th></th>\n",
       "      <th>Hypothesis</th>\n",
       "      <th>Reach</th>\n",
       "      <th>Impact</th>\n",
       "      <th>Confidence</th>\n",
       "      <th>Efforts</th>\n",
       "    </tr>\n",
       "  </thead>\n",
       "  <tbody>\n",
       "    <tr>\n",
       "      <th>0</th>\n",
       "      <td>Добавить два новых канала привлечения трафика, что позволит привлекать на 30% больше пользователей</td>\n",
       "      <td>3</td>\n",
       "      <td>10</td>\n",
       "      <td>8</td>\n",
       "      <td>6</td>\n",
       "    </tr>\n",
       "    <tr>\n",
       "      <th>1</th>\n",
       "      <td>Запустить собственную службу доставки, что сократит срок доставки заказов</td>\n",
       "      <td>2</td>\n",
       "      <td>5</td>\n",
       "      <td>4</td>\n",
       "      <td>10</td>\n",
       "    </tr>\n",
       "    <tr>\n",
       "      <th>2</th>\n",
       "      <td>Добавить блоки рекомендаций товаров на сайт интернет магазина, чтобы повысить конверсию и средни...</td>\n",
       "      <td>8</td>\n",
       "      <td>3</td>\n",
       "      <td>7</td>\n",
       "      <td>3</td>\n",
       "    </tr>\n",
       "    <tr>\n",
       "      <th>3</th>\n",
       "      <td>Изменить структура категорий, что увеличит конверсию, т.к. пользователи быстрее найдут нужный товар</td>\n",
       "      <td>8</td>\n",
       "      <td>3</td>\n",
       "      <td>3</td>\n",
       "      <td>8</td>\n",
       "    </tr>\n",
       "    <tr>\n",
       "      <th>4</th>\n",
       "      <td>Изменить цвет фона главной страницы, чтобы увеличить вовлеченность пользователей</td>\n",
       "      <td>3</td>\n",
       "      <td>1</td>\n",
       "      <td>1</td>\n",
       "      <td>1</td>\n",
       "    </tr>\n",
       "    <tr>\n",
       "      <th>5</th>\n",
       "      <td>Добавить страницу отзывов клиентов о магазине, что позволит увеличить количество заказов</td>\n",
       "      <td>3</td>\n",
       "      <td>2</td>\n",
       "      <td>2</td>\n",
       "      <td>3</td>\n",
       "    </tr>\n",
       "    <tr>\n",
       "      <th>6</th>\n",
       "      <td>Показать на главной странице баннеры с актуальными акциями и распродажами, чтобы увеличить конве...</td>\n",
       "      <td>5</td>\n",
       "      <td>3</td>\n",
       "      <td>8</td>\n",
       "      <td>3</td>\n",
       "    </tr>\n",
       "    <tr>\n",
       "      <th>7</th>\n",
       "      <td>Добавить форму подписки на все основные страницы, чтобы собрать базу клиентов для email-рассылок</td>\n",
       "      <td>10</td>\n",
       "      <td>7</td>\n",
       "      <td>8</td>\n",
       "      <td>5</td>\n",
       "    </tr>\n",
       "    <tr>\n",
       "      <th>8</th>\n",
       "      <td>Запустить акцию, дающую скидку на товар в день рождения</td>\n",
       "      <td>1</td>\n",
       "      <td>9</td>\n",
       "      <td>9</td>\n",
       "      <td>5</td>\n",
       "    </tr>\n",
       "  </tbody>\n",
       "</table>\n",
       "</div>"
      ],
      "text/plain": [
       "                                                                                            Hypothesis  \\\n",
       "0   Добавить два новых канала привлечения трафика, что позволит привлекать на 30% больше пользователей   \n",
       "1                            Запустить собственную службу доставки, что сократит срок доставки заказов   \n",
       "2  Добавить блоки рекомендаций товаров на сайт интернет магазина, чтобы повысить конверсию и средни...   \n",
       "3  Изменить структура категорий, что увеличит конверсию, т.к. пользователи быстрее найдут нужный товар   \n",
       "4                     Изменить цвет фона главной страницы, чтобы увеличить вовлеченность пользователей   \n",
       "5             Добавить страницу отзывов клиентов о магазине, что позволит увеличить количество заказов   \n",
       "6  Показать на главной странице баннеры с актуальными акциями и распродажами, чтобы увеличить конве...   \n",
       "7     Добавить форму подписки на все основные страницы, чтобы собрать базу клиентов для email-рассылок   \n",
       "8                                              Запустить акцию, дающую скидку на товар в день рождения   \n",
       "\n",
       "   Reach  Impact  Confidence  Efforts  \n",
       "0      3      10           8        6  \n",
       "1      2       5           4       10  \n",
       "2      8       3           7        3  \n",
       "3      8       3           3        8  \n",
       "4      3       1           1        1  \n",
       "5      3       2           2        3  \n",
       "6      5       3           8        3  \n",
       "7     10       7           8        5  \n",
       "8      1       9           9        5  "
      ]
     },
     "execution_count": 4,
     "metadata": {},
     "output_type": "execute_result"
    }
   ],
   "source": [
    "# выводим общую информацию по датафрейму\n",
    "pd.options.display.max_colwidth = 100\n",
    "hypothesis.head(10)"
   ]
  },
  {
   "cell_type": "markdown",
   "metadata": {},
   "source": [
    "В названии колонок применен верхний регистр для первых букв, заменим его для удобства. Так как гипотез не много, всего 9, визуально проверили, все они уникальны.\n",
    "\n"
   ]
  },
  {
   "cell_type": "code",
   "execution_count": 5,
   "metadata": {},
   "outputs": [],
   "source": [
    "# замена на нижний регистр\n",
    "hypothesis.columns = hypothesis.columns.str.lower()"
   ]
  },
  {
   "cell_type": "code",
   "execution_count": 6,
   "metadata": {},
   "outputs": [
    {
     "name": "stdout",
     "output_type": "stream",
     "text": [
      "<class 'pandas.core.frame.DataFrame'>\n",
      "RangeIndex: 9 entries, 0 to 8\n",
      "Data columns (total 5 columns):\n",
      " #   Column      Non-Null Count  Dtype \n",
      "---  ------      --------------  ----- \n",
      " 0   hypothesis  9 non-null      object\n",
      " 1   reach       9 non-null      int64 \n",
      " 2   impact      9 non-null      int64 \n",
      " 3   confidence  9 non-null      int64 \n",
      " 4   efforts     9 non-null      int64 \n",
      "dtypes: int64(4), object(1)\n",
      "memory usage: 488.0+ bytes\n"
     ]
    }
   ],
   "source": [
    "# выводим общую информацию по датафрейму `hypothesis`\n",
    "hypothesis.info()"
   ]
  },
  {
   "cell_type": "markdown",
   "metadata": {},
   "source": [
    "В датафрейме у нас 5 колонок, замена регистра прошла успешно, 9 строк, пропусков нет."
   ]
  },
  {
   "cell_type": "code",
   "execution_count": 7,
   "metadata": {},
   "outputs": [
    {
     "data": {
      "text/html": [
       "<div>\n",
       "<style scoped>\n",
       "    .dataframe tbody tr th:only-of-type {\n",
       "        vertical-align: middle;\n",
       "    }\n",
       "\n",
       "    .dataframe tbody tr th {\n",
       "        vertical-align: top;\n",
       "    }\n",
       "\n",
       "    .dataframe thead th {\n",
       "        text-align: right;\n",
       "    }\n",
       "</style>\n",
       "<table border=\"1\" class=\"dataframe\">\n",
       "  <thead>\n",
       "    <tr style=\"text-align: right;\">\n",
       "      <th></th>\n",
       "      <th>hypothesis</th>\n",
       "      <th>ICE</th>\n",
       "    </tr>\n",
       "  </thead>\n",
       "  <tbody>\n",
       "    <tr>\n",
       "      <th>8</th>\n",
       "      <td>Запустить акцию, дающую скидку на товар в день рождения</td>\n",
       "      <td>16.20</td>\n",
       "    </tr>\n",
       "    <tr>\n",
       "      <th>0</th>\n",
       "      <td>Добавить два новых канала привлечения трафика, что позволит привлекать на 30% больше пользователей</td>\n",
       "      <td>13.33</td>\n",
       "    </tr>\n",
       "    <tr>\n",
       "      <th>7</th>\n",
       "      <td>Добавить форму подписки на все основные страницы, чтобы собрать базу клиентов для email-рассылок</td>\n",
       "      <td>11.20</td>\n",
       "    </tr>\n",
       "    <tr>\n",
       "      <th>6</th>\n",
       "      <td>Показать на главной странице баннеры с актуальными акциями и распродажами, чтобы увеличить конве...</td>\n",
       "      <td>8.00</td>\n",
       "    </tr>\n",
       "    <tr>\n",
       "      <th>2</th>\n",
       "      <td>Добавить блоки рекомендаций товаров на сайт интернет магазина, чтобы повысить конверсию и средни...</td>\n",
       "      <td>7.00</td>\n",
       "    </tr>\n",
       "    <tr>\n",
       "      <th>1</th>\n",
       "      <td>Запустить собственную службу доставки, что сократит срок доставки заказов</td>\n",
       "      <td>2.00</td>\n",
       "    </tr>\n",
       "    <tr>\n",
       "      <th>5</th>\n",
       "      <td>Добавить страницу отзывов клиентов о магазине, что позволит увеличить количество заказов</td>\n",
       "      <td>1.33</td>\n",
       "    </tr>\n",
       "    <tr>\n",
       "      <th>3</th>\n",
       "      <td>Изменить структура категорий, что увеличит конверсию, т.к. пользователи быстрее найдут нужный товар</td>\n",
       "      <td>1.12</td>\n",
       "    </tr>\n",
       "    <tr>\n",
       "      <th>4</th>\n",
       "      <td>Изменить цвет фона главной страницы, чтобы увеличить вовлеченность пользователей</td>\n",
       "      <td>1.00</td>\n",
       "    </tr>\n",
       "  </tbody>\n",
       "</table>\n",
       "</div>"
      ],
      "text/plain": [
       "                                                                                            hypothesis  \\\n",
       "8                                              Запустить акцию, дающую скидку на товар в день рождения   \n",
       "0   Добавить два новых канала привлечения трафика, что позволит привлекать на 30% больше пользователей   \n",
       "7     Добавить форму подписки на все основные страницы, чтобы собрать базу клиентов для email-рассылок   \n",
       "6  Показать на главной странице баннеры с актуальными акциями и распродажами, чтобы увеличить конве...   \n",
       "2  Добавить блоки рекомендаций товаров на сайт интернет магазина, чтобы повысить конверсию и средни...   \n",
       "1                            Запустить собственную службу доставки, что сократит срок доставки заказов   \n",
       "5             Добавить страницу отзывов клиентов о магазине, что позволит увеличить количество заказов   \n",
       "3  Изменить структура категорий, что увеличит конверсию, т.к. пользователи быстрее найдут нужный товар   \n",
       "4                     Изменить цвет фона главной страницы, чтобы увеличить вовлеченность пользователей   \n",
       "\n",
       "     ICE  \n",
       "8  16.20  \n",
       "0  13.33  \n",
       "7  11.20  \n",
       "6   8.00  \n",
       "2   7.00  \n",
       "1   2.00  \n",
       "5   1.33  \n",
       "3   1.12  \n",
       "4   1.00  "
      ]
     },
     "metadata": {},
     "output_type": "display_data"
    }
   ],
   "source": [
    "# посчитаем ICE\n",
    "hypothesis['ICE'] = round((hypothesis['impact']* hypothesis['confidence'])/hypothesis['efforts'],2)\n",
    "display(hypothesis[['hypothesis', 'ICE']].sort_values(by='ICE', ascending=False))\n"
   ]
  },
  {
   "cell_type": "markdown",
   "metadata": {},
   "source": [
    "Наиболее эффективные гипотезы по ICE: 8,0,7,6"
   ]
  },
  {
   "cell_type": "code",
   "execution_count": 8,
   "metadata": {},
   "outputs": [
    {
     "data": {
      "text/html": [
       "<div>\n",
       "<style scoped>\n",
       "    .dataframe tbody tr th:only-of-type {\n",
       "        vertical-align: middle;\n",
       "    }\n",
       "\n",
       "    .dataframe tbody tr th {\n",
       "        vertical-align: top;\n",
       "    }\n",
       "\n",
       "    .dataframe thead th {\n",
       "        text-align: right;\n",
       "    }\n",
       "</style>\n",
       "<table border=\"1\" class=\"dataframe\">\n",
       "  <thead>\n",
       "    <tr style=\"text-align: right;\">\n",
       "      <th></th>\n",
       "      <th>hypothesis</th>\n",
       "      <th>RICE</th>\n",
       "    </tr>\n",
       "  </thead>\n",
       "  <tbody>\n",
       "    <tr>\n",
       "      <th>7</th>\n",
       "      <td>Добавить форму подписки на все основные страницы, чтобы собрать базу клиентов для email-рассылок</td>\n",
       "      <td>112.0</td>\n",
       "    </tr>\n",
       "    <tr>\n",
       "      <th>2</th>\n",
       "      <td>Добавить блоки рекомендаций товаров на сайт интернет магазина, чтобы повысить конверсию и средни...</td>\n",
       "      <td>56.0</td>\n",
       "    </tr>\n",
       "    <tr>\n",
       "      <th>0</th>\n",
       "      <td>Добавить два новых канала привлечения трафика, что позволит привлекать на 30% больше пользователей</td>\n",
       "      <td>40.0</td>\n",
       "    </tr>\n",
       "    <tr>\n",
       "      <th>6</th>\n",
       "      <td>Показать на главной странице баннеры с актуальными акциями и распродажами, чтобы увеличить конве...</td>\n",
       "      <td>40.0</td>\n",
       "    </tr>\n",
       "    <tr>\n",
       "      <th>8</th>\n",
       "      <td>Запустить акцию, дающую скидку на товар в день рождения</td>\n",
       "      <td>16.2</td>\n",
       "    </tr>\n",
       "    <tr>\n",
       "      <th>3</th>\n",
       "      <td>Изменить структура категорий, что увеличит конверсию, т.к. пользователи быстрее найдут нужный товар</td>\n",
       "      <td>9.0</td>\n",
       "    </tr>\n",
       "    <tr>\n",
       "      <th>1</th>\n",
       "      <td>Запустить собственную службу доставки, что сократит срок доставки заказов</td>\n",
       "      <td>4.0</td>\n",
       "    </tr>\n",
       "    <tr>\n",
       "      <th>5</th>\n",
       "      <td>Добавить страницу отзывов клиентов о магазине, что позволит увеличить количество заказов</td>\n",
       "      <td>4.0</td>\n",
       "    </tr>\n",
       "    <tr>\n",
       "      <th>4</th>\n",
       "      <td>Изменить цвет фона главной страницы, чтобы увеличить вовлеченность пользователей</td>\n",
       "      <td>3.0</td>\n",
       "    </tr>\n",
       "  </tbody>\n",
       "</table>\n",
       "</div>"
      ],
      "text/plain": [
       "                                                                                            hypothesis  \\\n",
       "7     Добавить форму подписки на все основные страницы, чтобы собрать базу клиентов для email-рассылок   \n",
       "2  Добавить блоки рекомендаций товаров на сайт интернет магазина, чтобы повысить конверсию и средни...   \n",
       "0   Добавить два новых канала привлечения трафика, что позволит привлекать на 30% больше пользователей   \n",
       "6  Показать на главной странице баннеры с актуальными акциями и распродажами, чтобы увеличить конве...   \n",
       "8                                              Запустить акцию, дающую скидку на товар в день рождения   \n",
       "3  Изменить структура категорий, что увеличит конверсию, т.к. пользователи быстрее найдут нужный товар   \n",
       "1                            Запустить собственную службу доставки, что сократит срок доставки заказов   \n",
       "5             Добавить страницу отзывов клиентов о магазине, что позволит увеличить количество заказов   \n",
       "4                     Изменить цвет фона главной страницы, чтобы увеличить вовлеченность пользователей   \n",
       "\n",
       "    RICE  \n",
       "7  112.0  \n",
       "2   56.0  \n",
       "0   40.0  \n",
       "6   40.0  \n",
       "8   16.2  \n",
       "3    9.0  \n",
       "1    4.0  \n",
       "5    4.0  \n",
       "4    3.0  "
      ]
     },
     "metadata": {},
     "output_type": "display_data"
    }
   ],
   "source": [
    "# посчитаем RICE\n",
    "hypothesis['RICE'] = round((hypothesis['reach']*hypothesis['impact']* hypothesis['confidence'])/hypothesis['efforts'],2)\n",
    "display(hypothesis[['hypothesis', 'RICE']]. sort_values(by='RICE', ascending=False))"
   ]
  },
  {
   "cell_type": "markdown",
   "metadata": {},
   "source": [
    "Наиболее эффективные гипотезы по RICE: 7,2,0,6"
   ]
  },
  {
   "cell_type": "markdown",
   "metadata": {},
   "source": [
    "#### 3.1 Вывод \n",
    "\n",
    "Всего у нас 9 гипотез, для приоритизации мы применили фреймворки ICE и RICE, получили разные списки гипотез, так первая гипотеза по RICE 7 сместила 8 гипотезу за счет высокого параметра Reach, который равен 10, гипотеза под номером 2 появилась так же за счет относительно высокого показаетля Reach 8 и низкого Efforts, равному 3."
   ]
  },
  {
   "cell_type": "markdown",
   "metadata": {},
   "source": [
    "### 4. Анализ A/B-теста"
   ]
  },
  {
   "cell_type": "code",
   "execution_count": 9,
   "metadata": {},
   "outputs": [
    {
     "data": {
      "text/html": [
       "<div>\n",
       "<style scoped>\n",
       "    .dataframe tbody tr th:only-of-type {\n",
       "        vertical-align: middle;\n",
       "    }\n",
       "\n",
       "    .dataframe tbody tr th {\n",
       "        vertical-align: top;\n",
       "    }\n",
       "\n",
       "    .dataframe thead th {\n",
       "        text-align: right;\n",
       "    }\n",
       "</style>\n",
       "<table border=\"1\" class=\"dataframe\">\n",
       "  <thead>\n",
       "    <tr style=\"text-align: right;\">\n",
       "      <th></th>\n",
       "      <th>transactionId</th>\n",
       "      <th>visitorId</th>\n",
       "      <th>date</th>\n",
       "      <th>revenue</th>\n",
       "      <th>group</th>\n",
       "    </tr>\n",
       "  </thead>\n",
       "  <tbody>\n",
       "    <tr>\n",
       "      <th>0</th>\n",
       "      <td>3667963787</td>\n",
       "      <td>3312258926</td>\n",
       "      <td>2019-08-15</td>\n",
       "      <td>1650</td>\n",
       "      <td>B</td>\n",
       "    </tr>\n",
       "    <tr>\n",
       "      <th>1</th>\n",
       "      <td>2804400009</td>\n",
       "      <td>3642806036</td>\n",
       "      <td>2019-08-15</td>\n",
       "      <td>730</td>\n",
       "      <td>B</td>\n",
       "    </tr>\n",
       "    <tr>\n",
       "      <th>2</th>\n",
       "      <td>2961555356</td>\n",
       "      <td>4069496402</td>\n",
       "      <td>2019-08-15</td>\n",
       "      <td>400</td>\n",
       "      <td>A</td>\n",
       "    </tr>\n",
       "    <tr>\n",
       "      <th>3</th>\n",
       "      <td>3797467345</td>\n",
       "      <td>1196621759</td>\n",
       "      <td>2019-08-15</td>\n",
       "      <td>9759</td>\n",
       "      <td>B</td>\n",
       "    </tr>\n",
       "    <tr>\n",
       "      <th>4</th>\n",
       "      <td>2282983706</td>\n",
       "      <td>2322279887</td>\n",
       "      <td>2019-08-15</td>\n",
       "      <td>2308</td>\n",
       "      <td>B</td>\n",
       "    </tr>\n",
       "  </tbody>\n",
       "</table>\n",
       "</div>"
      ],
      "text/plain": [
       "   transactionId   visitorId        date  revenue group\n",
       "0     3667963787  3312258926  2019-08-15     1650     B\n",
       "1     2804400009  3642806036  2019-08-15      730     B\n",
       "2     2961555356  4069496402  2019-08-15      400     A\n",
       "3     3797467345  1196621759  2019-08-15     9759     B\n",
       "4     2282983706  2322279887  2019-08-15     2308     B"
      ]
     },
     "metadata": {},
     "output_type": "display_data"
    }
   ],
   "source": [
    "# выведим 5 первых строк датафрейма orders\n",
    "display(orders.head())"
   ]
  },
  {
   "cell_type": "code",
   "execution_count": 10,
   "metadata": {},
   "outputs": [
    {
     "name": "stdout",
     "output_type": "stream",
     "text": [
      "<class 'pandas.core.frame.DataFrame'>\n",
      "RangeIndex: 1197 entries, 0 to 1196\n",
      "Data columns (total 5 columns):\n",
      " #   Column         Non-Null Count  Dtype \n",
      "---  ------         --------------  ----- \n",
      " 0   transactionId  1197 non-null   int64 \n",
      " 1   visitorId      1197 non-null   int64 \n",
      " 2   date           1197 non-null   object\n",
      " 3   revenue        1197 non-null   int64 \n",
      " 4   group          1197 non-null   object\n",
      "dtypes: int64(3), object(2)\n",
      "memory usage: 46.9+ KB\n"
     ]
    }
   ],
   "source": [
    "# смотрим общую информаицю по orders\n",
    "orders.info()"
   ]
  },
  {
   "cell_type": "markdown",
   "metadata": {},
   "source": [
    "В датафрейме у нас 5 колонок, названия нас устраивают, менять ничего не будем, пропусков нет, заменим тип данных в `date`"
   ]
  },
  {
   "cell_type": "code",
   "execution_count": 11,
   "metadata": {},
   "outputs": [
    {
     "data": {
      "text/plain": [
       "0"
      ]
     },
     "execution_count": 11,
     "metadata": {},
     "output_type": "execute_result"
    }
   ],
   "source": [
    "## проверим на дубликаты\n",
    "orders.duplicated().sum()"
   ]
  },
  {
   "cell_type": "markdown",
   "metadata": {},
   "source": [
    "Отлично, дубликатов нет."
   ]
  },
  {
   "cell_type": "code",
   "execution_count": 12,
   "metadata": {},
   "outputs": [
    {
     "data": {
      "text/html": [
       "<div>\n",
       "<style scoped>\n",
       "    .dataframe tbody tr th:only-of-type {\n",
       "        vertical-align: middle;\n",
       "    }\n",
       "\n",
       "    .dataframe tbody tr th {\n",
       "        vertical-align: top;\n",
       "    }\n",
       "\n",
       "    .dataframe thead th {\n",
       "        text-align: right;\n",
       "    }\n",
       "</style>\n",
       "<table border=\"1\" class=\"dataframe\">\n",
       "  <thead>\n",
       "    <tr style=\"text-align: right;\">\n",
       "      <th></th>\n",
       "      <th>date</th>\n",
       "      <th>group</th>\n",
       "      <th>visitors</th>\n",
       "    </tr>\n",
       "  </thead>\n",
       "  <tbody>\n",
       "    <tr>\n",
       "      <th>0</th>\n",
       "      <td>2019-08-01</td>\n",
       "      <td>A</td>\n",
       "      <td>719</td>\n",
       "    </tr>\n",
       "    <tr>\n",
       "      <th>1</th>\n",
       "      <td>2019-08-02</td>\n",
       "      <td>A</td>\n",
       "      <td>619</td>\n",
       "    </tr>\n",
       "    <tr>\n",
       "      <th>2</th>\n",
       "      <td>2019-08-03</td>\n",
       "      <td>A</td>\n",
       "      <td>507</td>\n",
       "    </tr>\n",
       "    <tr>\n",
       "      <th>3</th>\n",
       "      <td>2019-08-04</td>\n",
       "      <td>A</td>\n",
       "      <td>717</td>\n",
       "    </tr>\n",
       "    <tr>\n",
       "      <th>4</th>\n",
       "      <td>2019-08-05</td>\n",
       "      <td>A</td>\n",
       "      <td>756</td>\n",
       "    </tr>\n",
       "  </tbody>\n",
       "</table>\n",
       "</div>"
      ],
      "text/plain": [
       "         date group  visitors\n",
       "0  2019-08-01     A       719\n",
       "1  2019-08-02     A       619\n",
       "2  2019-08-03     A       507\n",
       "3  2019-08-04     A       717\n",
       "4  2019-08-05     A       756"
      ]
     },
     "metadata": {},
     "output_type": "display_data"
    }
   ],
   "source": [
    "# выводим 5 первых строк датафрейма visitors\n",
    "display(visitors.head())"
   ]
  },
  {
   "cell_type": "code",
   "execution_count": 13,
   "metadata": {},
   "outputs": [
    {
     "name": "stdout",
     "output_type": "stream",
     "text": [
      "<class 'pandas.core.frame.DataFrame'>\n",
      "RangeIndex: 62 entries, 0 to 61\n",
      "Data columns (total 3 columns):\n",
      " #   Column    Non-Null Count  Dtype \n",
      "---  ------    --------------  ----- \n",
      " 0   date      62 non-null     object\n",
      " 1   group     62 non-null     object\n",
      " 2   visitors  62 non-null     int64 \n",
      "dtypes: int64(1), object(2)\n",
      "memory usage: 1.6+ KB\n"
     ]
    }
   ],
   "source": [
    "# смотрим общую информаицю по visitors\n",
    "visitors.info()"
   ]
  },
  {
   "cell_type": "markdown",
   "metadata": {},
   "source": [
    "В датафрейме visitors у нас 3 колонки, названия устраивают, пропусков нет.  \n",
    "  В обоих датафреймах заменим тип данных в `date`.\n"
   ]
  },
  {
   "cell_type": "code",
   "execution_count": 14,
   "metadata": {},
   "outputs": [
    {
     "data": {
      "text/plain": [
       "0"
      ]
     },
     "execution_count": 14,
     "metadata": {},
     "output_type": "execute_result"
    }
   ],
   "source": [
    "# проверим на дубликаты\n",
    "visitors.duplicated().sum()"
   ]
  },
  {
   "cell_type": "markdown",
   "metadata": {},
   "source": [
    "Отлично, дубликатов нет)"
   ]
  },
  {
   "cell_type": "code",
   "execution_count": 15,
   "metadata": {},
   "outputs": [
    {
     "name": "stdout",
     "output_type": "stream",
     "text": [
      "<class 'pandas.core.frame.DataFrame'>\n",
      "RangeIndex: 1197 entries, 0 to 1196\n",
      "Data columns (total 5 columns):\n",
      " #   Column         Non-Null Count  Dtype         \n",
      "---  ------         --------------  -----         \n",
      " 0   transactionId  1197 non-null   int64         \n",
      " 1   visitorId      1197 non-null   int64         \n",
      " 2   date           1197 non-null   datetime64[ns]\n",
      " 3   revenue        1197 non-null   int64         \n",
      " 4   group          1197 non-null   object        \n",
      "dtypes: datetime64[ns](1), int64(3), object(1)\n",
      "memory usage: 46.9+ KB\n",
      "<class 'pandas.core.frame.DataFrame'>\n",
      "RangeIndex: 62 entries, 0 to 61\n",
      "Data columns (total 3 columns):\n",
      " #   Column    Non-Null Count  Dtype         \n",
      "---  ------    --------------  -----         \n",
      " 0   date      62 non-null     datetime64[ns]\n",
      " 1   group     62 non-null     object        \n",
      " 2   visitors  62 non-null     int64         \n",
      "dtypes: datetime64[ns](1), int64(1), object(1)\n",
      "memory usage: 1.6+ KB\n"
     ]
    }
   ],
   "source": [
    "# меняем тип данных и проверяем\n",
    "orders['date'] = pd.to_datetime(orders['date'])\n",
    "visitors['date'] = pd.to_datetime(visitors['date'])\n",
    "orders.info()\n",
    "visitors.info()"
   ]
  },
  {
   "cell_type": "code",
   "execution_count": 17,
   "metadata": {},
   "outputs": [
    {
     "data": {
      "text/plain": [
       "array(['B', 'A'], dtype=object)"
      ]
     },
     "execution_count": 17,
     "metadata": {},
     "output_type": "execute_result"
    }
   ],
   "source": [
    "# узнаем кол-во групп\n",
    "orders['group'].unique()"
   ]
  },
  {
   "cell_type": "markdown",
   "metadata": {},
   "source": [
    "В нашем тесте пользователи принимали участие две группы пользователей А и В."
   ]
  },
  {
   "cell_type": "code",
   "execution_count": 18,
   "metadata": {},
   "outputs": [
    {
     "data": {
      "text/plain": [
       "Timestamp('2019-08-01 00:00:00')"
      ]
     },
     "metadata": {},
     "output_type": "display_data"
    },
    {
     "data": {
      "text/plain": [
       "Timestamp('2019-08-31 00:00:00')"
      ]
     },
     "metadata": {},
     "output_type": "display_data"
    }
   ],
   "source": [
    "display(orders['date'].min())\n",
    "display(orders['date'].max())\n"
   ]
  },
  {
   "cell_type": "markdown",
   "metadata": {},
   "source": [
    "01.08.2019 - дата начала теста, окончание - 31.08.2019"
   ]
  },
  {
   "cell_type": "code",
   "execution_count": 19,
   "metadata": {},
   "outputs": [
    {
     "data": {
      "text/plain": [
       "1031"
      ]
     },
     "execution_count": 19,
     "metadata": {},
     "output_type": "execute_result"
    }
   ],
   "source": [
    "orders['visitorId'].nunique()"
   ]
  },
  {
   "cell_type": "markdown",
   "metadata": {},
   "source": [
    "В тесте приняло 1031 уникальный пользователь."
   ]
  },
  {
   "cell_type": "code",
   "execution_count": 20,
   "metadata": {},
   "outputs": [
    {
     "data": {
      "text/html": [
       "<div>\n",
       "<style scoped>\n",
       "    .dataframe tbody tr th:only-of-type {\n",
       "        vertical-align: middle;\n",
       "    }\n",
       "\n",
       "    .dataframe tbody tr th {\n",
       "        vertical-align: top;\n",
       "    }\n",
       "\n",
       "    .dataframe thead th {\n",
       "        text-align: right;\n",
       "    }\n",
       "</style>\n",
       "<table border=\"1\" class=\"dataframe\">\n",
       "  <thead>\n",
       "    <tr style=\"text-align: right;\">\n",
       "      <th></th>\n",
       "      <th>group</th>\n",
       "      <th>visitorId</th>\n",
       "    </tr>\n",
       "  </thead>\n",
       "  <tbody>\n",
       "    <tr>\n",
       "      <th>0</th>\n",
       "      <td>A</td>\n",
       "      <td>557</td>\n",
       "    </tr>\n",
       "    <tr>\n",
       "      <th>1</th>\n",
       "      <td>B</td>\n",
       "      <td>640</td>\n",
       "    </tr>\n",
       "  </tbody>\n",
       "</table>\n",
       "</div>"
      ],
      "text/plain": [
       "  group  visitorId\n",
       "0     A        557\n",
       "1     B        640"
      ]
     },
     "execution_count": 20,
     "metadata": {},
     "output_type": "execute_result"
    }
   ],
   "source": [
    "ab_totals = orders.groupby('group', as_index=False)['visitorId'].count()\n",
    "ab_totals"
   ]
  },
  {
   "cell_type": "markdown",
   "metadata": {},
   "source": [
    "У нас 1031 уникальных пользователей, однако, разбив по группам, видно, что некоторые пользователи попали в обе группы сразу."
   ]
  },
  {
   "cell_type": "markdown",
   "metadata": {},
   "source": [
    "#### Резюмируем входные данные:"
   ]
  },
  {
   "cell_type": "markdown",
   "metadata": {},
   "source": [
    "\n",
    "- В нашем тесте принимали участие 2 группы А и В;\n",
    "- Период: 01.08.2019 - 31.08.2019\n",
    "- Всего уникальных пользователей 1031.\n",
    "  В группе А -557 пользователей, в В - 640.\n",
    "- Некоторые пользователи попали в обе группы сразу\n"
   ]
  },
  {
   "cell_type": "code",
   "execution_count": 22,
   "metadata": {},
   "outputs": [
    {
     "name": "stdout",
     "output_type": "stream",
     "text": [
      "        date group  orders  buyers  revenue  visitors\n",
      "0 2019-08-01     A      24      20   148579       719\n",
      "1 2019-08-01     B      21      20   101217       713\n",
      "2 2019-08-02     A      44      38   242401      1338\n",
      "3 2019-08-02     B      45      43   266748      1294\n",
      "4 2019-08-03     A      68      62   354874      1845\n"
     ]
    }
   ],
   "source": [
    "# создаем датафрейм с уникальными парами `date` и `group`, избавимся от дубликатов\n",
    "datesGroups = orders[['date','group']].drop_duplicates() \n",
    "\n",
    "# объявим 2 переменных `ordersAggregated` и `visitorsAggregated`\n",
    "ordersAggregated = datesGroups.apply(lambda x: orders[np.logical_and(orders['date'] <= x['date'], orders['group'] == x['group'])]\\\n",
    "                                       .agg({'date' : 'max', 'group' : 'max', 'transactionId' : 'nunique', 'visitorId' : 'nunique', 'revenue' : 'sum'}), axis=1).sort_values(by=['date','group']) \n",
    "\n",
    "visitorsAggregated = datesGroups.apply(lambda x: visitors[np.logical_and(visitors['date'] <= x['date'], visitors['group'] == x['group'])]\\\n",
    "                                       .agg({'date' : 'max', 'group' : 'max', 'visitors' : 'sum'}), axis=1).sort_values(by=['date','group'])\n",
    "\n",
    "\n",
    "# объединим эти 2 переменные методом merge\n",
    "cumulativeData = ordersAggregated.merge(visitorsAggregated, left_on=['date', 'group'], right_on=['date', 'group'])\n",
    "cumulativeData.columns = ['date', 'group', 'orders', 'buyers', 'revenue', 'visitors']\n",
    "\n",
    "\n",
    "print(cumulativeData.head())"
   ]
  },
  {
   "cell_type": "markdown",
   "metadata": {},
   "source": [
    "Собрали все кумулятивные данные в один датафрейм."
   ]
  },
  {
   "cell_type": "code",
   "execution_count": 23,
   "metadata": {},
   "outputs": [
    {
     "data": {
      "text/html": [
       "<div>\n",
       "<style scoped>\n",
       "    .dataframe tbody tr th:only-of-type {\n",
       "        vertical-align: middle;\n",
       "    }\n",
       "\n",
       "    .dataframe tbody tr th {\n",
       "        vertical-align: top;\n",
       "    }\n",
       "\n",
       "    .dataframe thead th {\n",
       "        text-align: right;\n",
       "    }\n",
       "</style>\n",
       "<table border=\"1\" class=\"dataframe\">\n",
       "  <thead>\n",
       "    <tr style=\"text-align: right;\">\n",
       "      <th></th>\n",
       "      <th>date</th>\n",
       "      <th>revenue</th>\n",
       "      <th>orders</th>\n",
       "    </tr>\n",
       "  </thead>\n",
       "  <tbody>\n",
       "    <tr>\n",
       "      <th>0</th>\n",
       "      <td>2019-08-01</td>\n",
       "      <td>148579</td>\n",
       "      <td>24</td>\n",
       "    </tr>\n",
       "    <tr>\n",
       "      <th>2</th>\n",
       "      <td>2019-08-02</td>\n",
       "      <td>242401</td>\n",
       "      <td>44</td>\n",
       "    </tr>\n",
       "    <tr>\n",
       "      <th>4</th>\n",
       "      <td>2019-08-03</td>\n",
       "      <td>354874</td>\n",
       "      <td>68</td>\n",
       "    </tr>\n",
       "    <tr>\n",
       "      <th>6</th>\n",
       "      <td>2019-08-04</td>\n",
       "      <td>425699</td>\n",
       "      <td>84</td>\n",
       "    </tr>\n",
       "    <tr>\n",
       "      <th>8</th>\n",
       "      <td>2019-08-05</td>\n",
       "      <td>549917</td>\n",
       "      <td>109</td>\n",
       "    </tr>\n",
       "  </tbody>\n",
       "</table>\n",
       "</div>"
      ],
      "text/plain": [
       "        date  revenue  orders\n",
       "0 2019-08-01   148579      24\n",
       "2 2019-08-02   242401      44\n",
       "4 2019-08-03   354874      68\n",
       "6 2019-08-04   425699      84\n",
       "8 2019-08-05   549917     109"
      ]
     },
     "metadata": {},
     "output_type": "display_data"
    },
    {
     "data": {
      "text/html": [
       "<div>\n",
       "<style scoped>\n",
       "    .dataframe tbody tr th:only-of-type {\n",
       "        vertical-align: middle;\n",
       "    }\n",
       "\n",
       "    .dataframe tbody tr th {\n",
       "        vertical-align: top;\n",
       "    }\n",
       "\n",
       "    .dataframe thead th {\n",
       "        text-align: right;\n",
       "    }\n",
       "</style>\n",
       "<table border=\"1\" class=\"dataframe\">\n",
       "  <thead>\n",
       "    <tr style=\"text-align: right;\">\n",
       "      <th></th>\n",
       "      <th>date</th>\n",
       "      <th>revenue</th>\n",
       "      <th>orders</th>\n",
       "    </tr>\n",
       "  </thead>\n",
       "  <tbody>\n",
       "    <tr>\n",
       "      <th>1</th>\n",
       "      <td>2019-08-01</td>\n",
       "      <td>101217</td>\n",
       "      <td>21</td>\n",
       "    </tr>\n",
       "    <tr>\n",
       "      <th>3</th>\n",
       "      <td>2019-08-02</td>\n",
       "      <td>266748</td>\n",
       "      <td>45</td>\n",
       "    </tr>\n",
       "    <tr>\n",
       "      <th>5</th>\n",
       "      <td>2019-08-03</td>\n",
       "      <td>380996</td>\n",
       "      <td>61</td>\n",
       "    </tr>\n",
       "    <tr>\n",
       "      <th>7</th>\n",
       "      <td>2019-08-04</td>\n",
       "      <td>489567</td>\n",
       "      <td>78</td>\n",
       "    </tr>\n",
       "    <tr>\n",
       "      <th>9</th>\n",
       "      <td>2019-08-05</td>\n",
       "      <td>581995</td>\n",
       "      <td>101</td>\n",
       "    </tr>\n",
       "  </tbody>\n",
       "</table>\n",
       "</div>"
      ],
      "text/plain": [
       "        date  revenue  orders\n",
       "1 2019-08-01   101217      21\n",
       "3 2019-08-02   266748      45\n",
       "5 2019-08-03   380996      61\n",
       "7 2019-08-04   489567      78\n",
       "9 2019-08-05   581995     101"
      ]
     },
     "metadata": {},
     "output_type": "display_data"
    }
   ],
   "source": [
    "# создаем две переменных для выручки группы А и В\n",
    "cumulativeRevenueA = cumulativeData[cumulativeData['group']=='A'][['date','revenue', 'orders']]\n",
    "                                                                  \n",
    "cumulativeRevenueB = cumulativeData[cumulativeData['group']=='B'][['date','revenue', 'orders']]  \n",
    "display(cumulativeRevenueA.head())\n",
    "display(cumulativeRevenueB.head())"
   ]
  },
  {
   "cell_type": "markdown",
   "metadata": {},
   "source": [
    "#### 4.1 График кумулятивной выручки по группам. "
   ]
  },
  {
   "cell_type": "code",
   "execution_count": 24,
   "metadata": {},
   "outputs": [
    {
     "data": {
      "image/png": "[encoded data removed]",
      "text/plain": [
       "<Figure size 1080x360 with 1 Axes>"
      ]
     },
     "metadata": {
      "needs_background": "light"
     },
     "output_type": "display_data"
    }
   ],
   "source": [
    "# Строим график выручки группы А\n",
    "\n",
    "plt.figure(figsize=(15,5))\n",
    "plt.plot(cumulativeRevenueA['date'], cumulativeRevenueA['revenue'], label='A')\n",
    "\n",
    "# Строим график выручки группы B\n",
    "plt.plot(cumulativeRevenueB['date'], cumulativeRevenueB['revenue'], label='B')\n",
    "plt.title ('График кумулятивной выручки по группам.')\n",
    "plt.xlabel('дата')\n",
    "plt.ylabel('выручка')\n",
    "\n",
    "plt.legend() \n",
    "plt.show()"
   ]
  },
  {
   "cell_type": "code",
   "execution_count": 25,
   "metadata": {},
   "outputs": [
    {
     "data": {
      "text/plain": [
       "Timestamp('2019-08-01 00:00:00')"
      ]
     },
     "metadata": {},
     "output_type": "display_data"
    },
    {
     "data": {
      "text/plain": [
       "Timestamp('2019-08-31 00:00:00')"
      ]
     },
     "metadata": {},
     "output_type": "display_data"
    }
   ],
   "source": [
    "# проверим диапазон дат\n",
    "\n",
    "display(cumulativeData['date'].min())\n",
    "display(cumulativeData['date'].max())"
   ]
  },
  {
   "cell_type": "markdown",
   "metadata": {},
   "source": [
    "Изучаемый период - мес, с 01.08.2019 по 31.08.2019"
   ]
  },
  {
   "cell_type": "markdown",
   "metadata": {},
   "source": [
    "На всем протяжении теста сегмент В лидировал, первую неделю теста разницы не было, затем выручка у обеих групп начала расти, но В рос несколько больше, затем был большой скачок у сегмента В и позитивный тренд до самого завершения теста, возможно были аномально дорогие заказы, которые так повлияли, чуть позже мы это проверим и удалим для чистоты анализа."
   ]
  },
  {
   "cell_type": "markdown",
   "metadata": {},
   "source": [
    "#### 4.2 График кумулятивного среднего чека по группам."
   ]
  },
  {
   "cell_type": "code",
   "execution_count": 26,
   "metadata": {},
   "outputs": [
    {
     "data": {
      "image/png": "[encoded data removed]",
      "text/plain": [
       "<Figure size 720x360 with 1 Axes>"
      ]
     },
     "metadata": {
      "needs_background": "light"
     },
     "output_type": "display_data"
    }
   ],
   "source": [
    "# строим график кумулятивного среднего чека по группам\n",
    "plt.figure(figsize = (10,5))\n",
    "plt.plot(cumulativeRevenueA['date'], cumulativeRevenueA['revenue']/cumulativeRevenueA['orders'], label='A')\n",
    "plt.plot(cumulativeRevenueB['date'], cumulativeRevenueB['revenue']/cumulativeRevenueB['orders'], label='B')\n",
    "plt.legend()\n",
    "plt.title ('График кумулятивного среднего чека по группам.')\n",
    "plt.xlabel('дата')\n",
    "plt.ylabel('средний чек')\n",
    "plt.show()"
   ]
  },
  {
   "cell_type": "markdown",
   "metadata": {},
   "source": [
    "Кумулятивные значения среднего чека несколько колеблются, однако в середине теста у сегмента В происходит существенный скачок за счет аномально высокого заказа,  уровень которого удержать, правда, не удается, но все равно остается значительно выше сегмента А. "
   ]
  },
  {
   "cell_type": "markdown",
   "metadata": {},
   "source": [
    "#### 4.3 График относительного изменения кумулятивного среднего чека группы B к группе A."
   ]
  },
  {
   "cell_type": "code",
   "execution_count": 52,
   "metadata": {},
   "outputs": [
    {
     "data": {
      "image/png": "[encoded data removed]",
      "text/plain": [
       "<Figure size 432x288 with 1 Axes>"
      ]
     },
     "metadata": {
      "needs_background": "light"
     },
     "output_type": "display_data"
    }
   ],
   "source": [
    "# собираем данные в одном датафрейме\n",
    "mergedCumulativeRevenue = cumulativeRevenueA.merge(cumulativeRevenueB, left_on='date', right_on='date', how='left', suffixes=['A', 'B'])\n",
    "\n",
    "# cтроим отношение средних чеков\n",
    "plt.plot(mergedCumulativeRevenue['date'], (mergedCumulativeRevenue['revenueB']/mergedCumulativeRevenue['ordersB'])/(mergedCumulativeRevenue['revenueA']/mergedCumulativeRevenue['ordersA'])-1)\n",
    "\n",
    "# добавляем ось X\n",
    "plt.axhline(y=0, color='black', linestyle='--') \n",
    "plt.title ('График относительного изменения кумулятивного среднего чека группы B к группе A.')\n",
    "\n",
    "plt.xlabel('дата')\n",
    "plt.xticks(rotation = 20)\n",
    "\n",
    "plt.show()\n"
   ]
  },
  {
   "cell_type": "markdown",
   "metadata": {},
   "source": [
    "Результаты теста менялись в одну дату, видимо тогда были аномальные заказы."
   ]
  },
  {
   "cell_type": "markdown",
   "metadata": {},
   "source": [
    "#### 4.4 График кумулятивной конверсии по группам."
   ]
  },
  {
   "cell_type": "code",
   "execution_count": 28,
   "metadata": {},
   "outputs": [
    {
     "data": {
      "text/html": [
       "<div>\n",
       "<style scoped>\n",
       "    .dataframe tbody tr th:only-of-type {\n",
       "        vertical-align: middle;\n",
       "    }\n",
       "\n",
       "    .dataframe tbody tr th {\n",
       "        vertical-align: top;\n",
       "    }\n",
       "\n",
       "    .dataframe thead th {\n",
       "        text-align: right;\n",
       "    }\n",
       "</style>\n",
       "<table border=\"1\" class=\"dataframe\">\n",
       "  <thead>\n",
       "    <tr style=\"text-align: right;\">\n",
       "      <th></th>\n",
       "      <th>date</th>\n",
       "      <th>group</th>\n",
       "      <th>orders</th>\n",
       "      <th>buyers</th>\n",
       "      <th>revenue</th>\n",
       "      <th>visitors</th>\n",
       "      <th>conversion</th>\n",
       "    </tr>\n",
       "  </thead>\n",
       "  <tbody>\n",
       "    <tr>\n",
       "      <th>0</th>\n",
       "      <td>2019-08-01</td>\n",
       "      <td>A</td>\n",
       "      <td>24</td>\n",
       "      <td>20</td>\n",
       "      <td>148579</td>\n",
       "      <td>719</td>\n",
       "      <td>0.033380</td>\n",
       "    </tr>\n",
       "    <tr>\n",
       "      <th>2</th>\n",
       "      <td>2019-08-02</td>\n",
       "      <td>A</td>\n",
       "      <td>44</td>\n",
       "      <td>38</td>\n",
       "      <td>242401</td>\n",
       "      <td>1338</td>\n",
       "      <td>0.032885</td>\n",
       "    </tr>\n",
       "    <tr>\n",
       "      <th>4</th>\n",
       "      <td>2019-08-03</td>\n",
       "      <td>A</td>\n",
       "      <td>68</td>\n",
       "      <td>62</td>\n",
       "      <td>354874</td>\n",
       "      <td>1845</td>\n",
       "      <td>0.036856</td>\n",
       "    </tr>\n",
       "    <tr>\n",
       "      <th>6</th>\n",
       "      <td>2019-08-04</td>\n",
       "      <td>A</td>\n",
       "      <td>84</td>\n",
       "      <td>77</td>\n",
       "      <td>425699</td>\n",
       "      <td>2562</td>\n",
       "      <td>0.032787</td>\n",
       "    </tr>\n",
       "    <tr>\n",
       "      <th>8</th>\n",
       "      <td>2019-08-05</td>\n",
       "      <td>A</td>\n",
       "      <td>109</td>\n",
       "      <td>100</td>\n",
       "      <td>549917</td>\n",
       "      <td>3318</td>\n",
       "      <td>0.032851</td>\n",
       "    </tr>\n",
       "  </tbody>\n",
       "</table>\n",
       "</div>"
      ],
      "text/plain": [
       "        date group  orders  buyers  revenue  visitors  conversion\n",
       "0 2019-08-01     A      24      20   148579       719    0.033380\n",
       "2 2019-08-02     A      44      38   242401      1338    0.032885\n",
       "4 2019-08-03     A      68      62   354874      1845    0.036856\n",
       "6 2019-08-04     A      84      77   425699      2562    0.032787\n",
       "8 2019-08-05     A     109     100   549917      3318    0.032851"
      ]
     },
     "metadata": {},
     "output_type": "display_data"
    },
    {
     "data": {
      "text/html": [
       "<div>\n",
       "<style scoped>\n",
       "    .dataframe tbody tr th:only-of-type {\n",
       "        vertical-align: middle;\n",
       "    }\n",
       "\n",
       "    .dataframe tbody tr th {\n",
       "        vertical-align: top;\n",
       "    }\n",
       "\n",
       "    .dataframe thead th {\n",
       "        text-align: right;\n",
       "    }\n",
       "</style>\n",
       "<table border=\"1\" class=\"dataframe\">\n",
       "  <thead>\n",
       "    <tr style=\"text-align: right;\">\n",
       "      <th></th>\n",
       "      <th>date</th>\n",
       "      <th>group</th>\n",
       "      <th>orders</th>\n",
       "      <th>buyers</th>\n",
       "      <th>revenue</th>\n",
       "      <th>visitors</th>\n",
       "      <th>conversion</th>\n",
       "    </tr>\n",
       "  </thead>\n",
       "  <tbody>\n",
       "    <tr>\n",
       "      <th>1</th>\n",
       "      <td>2019-08-01</td>\n",
       "      <td>B</td>\n",
       "      <td>21</td>\n",
       "      <td>20</td>\n",
       "      <td>101217</td>\n",
       "      <td>713</td>\n",
       "      <td>0.029453</td>\n",
       "    </tr>\n",
       "    <tr>\n",
       "      <th>3</th>\n",
       "      <td>2019-08-02</td>\n",
       "      <td>B</td>\n",
       "      <td>45</td>\n",
       "      <td>43</td>\n",
       "      <td>266748</td>\n",
       "      <td>1294</td>\n",
       "      <td>0.034776</td>\n",
       "    </tr>\n",
       "    <tr>\n",
       "      <th>5</th>\n",
       "      <td>2019-08-03</td>\n",
       "      <td>B</td>\n",
       "      <td>61</td>\n",
       "      <td>59</td>\n",
       "      <td>380996</td>\n",
       "      <td>1803</td>\n",
       "      <td>0.033833</td>\n",
       "    </tr>\n",
       "    <tr>\n",
       "      <th>7</th>\n",
       "      <td>2019-08-04</td>\n",
       "      <td>B</td>\n",
       "      <td>78</td>\n",
       "      <td>75</td>\n",
       "      <td>489567</td>\n",
       "      <td>2573</td>\n",
       "      <td>0.030315</td>\n",
       "    </tr>\n",
       "    <tr>\n",
       "      <th>9</th>\n",
       "      <td>2019-08-05</td>\n",
       "      <td>B</td>\n",
       "      <td>101</td>\n",
       "      <td>98</td>\n",
       "      <td>581995</td>\n",
       "      <td>3280</td>\n",
       "      <td>0.030793</td>\n",
       "    </tr>\n",
       "  </tbody>\n",
       "</table>\n",
       "</div>"
      ],
      "text/plain": [
       "        date group  orders  buyers  revenue  visitors  conversion\n",
       "1 2019-08-01     B      21      20   101217       713    0.029453\n",
       "3 2019-08-02     B      45      43   266748      1294    0.034776\n",
       "5 2019-08-03     B      61      59   380996      1803    0.033833\n",
       "7 2019-08-04     B      78      75   489567      2573    0.030315\n",
       "9 2019-08-05     B     101      98   581995      3280    0.030793"
      ]
     },
     "metadata": {},
     "output_type": "display_data"
    }
   ],
   "source": [
    "# считаем кумулятивную конверсию\n",
    "cumulativeData['conversion'] = cumulativeData['orders']/cumulativeData['visitors']\n",
    "\n",
    "# отделяем данные по группе A\n",
    "cumulativeDataA = cumulativeData[cumulativeData['group']=='A']\n",
    "\n",
    "# отделяем данные по группе B\n",
    "cumulativeDataB = cumulativeData[cumulativeData['group']=='B']\n",
    "\n",
    "display(cumulativeDataA.head())\n",
    "display(cumulativeDataB.head())"
   ]
  },
  {
   "cell_type": "markdown",
   "metadata": {},
   "source": [
    "Посчитали кумулятивную конверсию по группам, вывели на экран."
   ]
  },
  {
   "cell_type": "code",
   "execution_count": 29,
   "metadata": {},
   "outputs": [
    {
     "data": {
      "image/png": "[encoded data removed]",
      "text/plain": [
       "<Figure size 1080x360 with 1 Axes>"
      ]
     },
     "metadata": {
      "needs_background": "light"
     },
     "output_type": "display_data"
    }
   ],
   "source": [
    "# строим графики\n",
    "plt.figure(figsize=(15,5))\n",
    "plt.plot(cumulativeDataA['date'], cumulativeDataA['conversion'], label='A')\n",
    "plt.plot(cumulativeDataB['date'], cumulativeDataB['conversion'], label='B')\n",
    "plt.legend()\n",
    "\n",
    "plt.title ('График кумулятивной конверсии по группам')\n",
    "\n",
    "plt.xlabel('дата')\n",
    "plt.ylabel('Кумулятивная конверсия')\n",
    "plt.show()\n"
   ]
  },
  {
   "cell_type": "markdown",
   "metadata": {},
   "source": [
    "Конверсия колебалась в обоих сегментах вначале теста, причем в группе А конверсия изначально была очень хорошой и был скачок, но уже на первой неделе группы поменялись местами и В опередил и выровнился около одного значения 3.5%, и по-прежнему больше значения сегмента А. Все колебания в пределах 1%. "
   ]
  },
  {
   "cell_type": "markdown",
   "metadata": {},
   "source": [
    "#### 4.5 График относительного изменения кумулятивной конверсии группы B к группе A."
   ]
  },
  {
   "cell_type": "code",
   "execution_count": 30,
   "metadata": {},
   "outputs": [
    {
     "data": {
      "image/png": "[encoded data removed]",
      "text/plain": [
       "<Figure size 1080x360 with 1 Axes>"
      ]
     },
     "metadata": {
      "needs_background": "light"
     },
     "output_type": "display_data"
    }
   ],
   "source": [
    "# объединим две переменные `cumulativeDataA` и `cumulativeDataB`\n",
    "mergedCumulativeConversions = cumulativeDataA[['date','conversion']].merge(cumulativeDataB[['date','conversion']], left_on='date', right_on='date', how='left', suffixes=['A', 'B'])\n",
    "\n",
    "\n",
    "#  построим график\n",
    "plt.figure(figsize=(15,5))\n",
    "plt.plot(mergedCumulativeConversions['date'], mergedCumulativeConversions['conversionB']/mergedCumulativeConversions['conversionA']-1, label=\"Относительный прирост конверсии группы B относительно группы A\")\n",
    "plt.legend()\n",
    "\n",
    "plt.axhline(y=0, color='black', linestyle='--')\n",
    "plt.axhline(y=0.2, color='grey', linestyle='--')\n",
    "plt.axhline(y=0.10, color='green', linestyle='--')\n",
    "\n",
    "plt.title('График относительного изменения кумулятивной конверсии группы B к группе A')\n",
    "plt.xlabel('дата')\n",
    "\n",
    "plt.show()"
   ]
  },
  {
   "cell_type": "markdown",
   "metadata": {},
   "source": [
    "В начале теста сегмент В был несколько хуже А, но затем уверенно становился лучше, ближе к завершению теста произошло незначительное снижение,на последней неделе колеблется в пределах 10% прироста относительно группы А."
   ]
  },
  {
   "cell_type": "markdown",
   "metadata": {},
   "source": [
    "#### 4.6 Количество заказов по пользователям."
   ]
  },
  {
   "cell_type": "code",
   "execution_count": 31,
   "metadata": {},
   "outputs": [
    {
     "data": {
      "image/png": "[encoded data removed]",
      "text/plain": [
       "<Figure size 432x288 with 1 Axes>"
      ]
     },
     "metadata": {
      "needs_background": "light"
     },
     "output_type": "display_data"
    }
   ],
   "source": [
    "# сгруппируем данные Из `orders` по пользователям и посчитаем кол-во уникальных заказов на пользователя\n",
    "ordersByUsers = orders.groupby('visitorId', as_index = False).agg({'transactionId':'nunique'})\n",
    "ordersByUsers.sort_values(by='transactionId', ascending=False).head()\n",
    "x_values = pd.Series(range(0,len(ordersByUsers)))\n",
    "\n",
    "\n",
    "# строим точечный график\n",
    "plt.scatter(x_values, ordersByUsers['transactionId'])\n",
    "# серия из чисел от 0 до количества наблюдений в ordersByUsers\n",
    "x_values = pd.Series(range(0, len(ordersByUsers)))\n",
    "\n",
    "plt.title('Распределение заказов')\n",
    "plt.xlabel('Частота')\n",
    "plt.ylabel('Количество заказов')\n",
    "plt.show()"
   ]
  },
  {
   "cell_type": "markdown",
   "metadata": {},
   "source": [
    "Мы видим, что большинство пользователей совершили 1 заказ, но есть и 2, и 4 и даже 11, но не понятно, а сколько их таких, совершивших более 1 заказа. Для этого вы высчитаем перцентили и определим границы аномальных данных."
   ]
  },
  {
   "cell_type": "markdown",
   "metadata": {},
   "source": [
    "#### 4.7 95-й и 99-й перцентили количества заказов на пользователя."
   ]
  },
  {
   "cell_type": "code",
   "execution_count": 32,
   "metadata": {},
   "outputs": [
    {
     "name": "stdout",
     "output_type": "stream",
     "text": [
      "[1. 2. 4.]\n"
     ]
    }
   ],
   "source": [
    "# находим перцентили\n",
    "print(np.percentile(ordersByUsers['transactionId'], [90,95,99]))"
   ]
  },
  {
   "cell_type": "markdown",
   "metadata": {},
   "source": [
    " 5% пользователей совершили 2 заказа, не более 1% совершили больше 4 заказов. За аномальных пользователей примем всех, кто совершил более 3 заказов, таким образом мы уберем 1% пользователей с наибольшим числом заказов."
   ]
  },
  {
   "cell_type": "markdown",
   "metadata": {},
   "source": [
    "#### 4.8 Стоимость заказов."
   ]
  },
  {
   "cell_type": "code",
   "execution_count": 33,
   "metadata": {},
   "outputs": [
    {
     "data": {
      "text/html": [
       "<div>\n",
       "<style scoped>\n",
       "    .dataframe tbody tr th:only-of-type {\n",
       "        vertical-align: middle;\n",
       "    }\n",
       "\n",
       "    .dataframe tbody tr th {\n",
       "        vertical-align: top;\n",
       "    }\n",
       "\n",
       "    .dataframe thead th {\n",
       "        text-align: right;\n",
       "    }\n",
       "</style>\n",
       "<table border=\"1\" class=\"dataframe\">\n",
       "  <thead>\n",
       "    <tr style=\"text-align: right;\">\n",
       "      <th></th>\n",
       "      <th>transactionId</th>\n",
       "      <th>visitorId</th>\n",
       "      <th>date</th>\n",
       "      <th>revenue</th>\n",
       "      <th>group</th>\n",
       "    </tr>\n",
       "  </thead>\n",
       "  <tbody>\n",
       "    <tr>\n",
       "      <th>425</th>\n",
       "      <td>590470918</td>\n",
       "      <td>1920142716</td>\n",
       "      <td>2019-08-19</td>\n",
       "      <td>1294500</td>\n",
       "      <td>B</td>\n",
       "    </tr>\n",
       "    <tr>\n",
       "      <th>1196</th>\n",
       "      <td>3936777065</td>\n",
       "      <td>2108080724</td>\n",
       "      <td>2019-08-15</td>\n",
       "      <td>202740</td>\n",
       "      <td>B</td>\n",
       "    </tr>\n",
       "    <tr>\n",
       "      <th>858</th>\n",
       "      <td>192721366</td>\n",
       "      <td>1316129916</td>\n",
       "      <td>2019-08-27</td>\n",
       "      <td>93940</td>\n",
       "      <td>A</td>\n",
       "    </tr>\n",
       "    <tr>\n",
       "      <th>1136</th>\n",
       "      <td>666610489</td>\n",
       "      <td>1307669133</td>\n",
       "      <td>2019-08-13</td>\n",
       "      <td>92550</td>\n",
       "      <td>A</td>\n",
       "    </tr>\n",
       "    <tr>\n",
       "      <th>744</th>\n",
       "      <td>3668308183</td>\n",
       "      <td>888512513</td>\n",
       "      <td>2019-08-27</td>\n",
       "      <td>86620</td>\n",
       "      <td>B</td>\n",
       "    </tr>\n",
       "    <tr>\n",
       "      <th>682</th>\n",
       "      <td>1216533772</td>\n",
       "      <td>4266935830</td>\n",
       "      <td>2019-08-29</td>\n",
       "      <td>78990</td>\n",
       "      <td>B</td>\n",
       "    </tr>\n",
       "    <tr>\n",
       "      <th>662</th>\n",
       "      <td>1811671147</td>\n",
       "      <td>4266935830</td>\n",
       "      <td>2019-08-29</td>\n",
       "      <td>78990</td>\n",
       "      <td>A</td>\n",
       "    </tr>\n",
       "    <tr>\n",
       "      <th>743</th>\n",
       "      <td>3603576309</td>\n",
       "      <td>4133034833</td>\n",
       "      <td>2019-08-09</td>\n",
       "      <td>67990</td>\n",
       "      <td>A</td>\n",
       "    </tr>\n",
       "    <tr>\n",
       "      <th>1103</th>\n",
       "      <td>1348774318</td>\n",
       "      <td>1164614297</td>\n",
       "      <td>2019-08-12</td>\n",
       "      <td>66350</td>\n",
       "      <td>A</td>\n",
       "    </tr>\n",
       "    <tr>\n",
       "      <th>1099</th>\n",
       "      <td>316924019</td>\n",
       "      <td>148427295</td>\n",
       "      <td>2019-08-12</td>\n",
       "      <td>65710</td>\n",
       "      <td>A</td>\n",
       "    </tr>\n",
       "  </tbody>\n",
       "</table>\n",
       "</div>"
      ],
      "text/plain": [
       "      transactionId   visitorId       date  revenue group\n",
       "425       590470918  1920142716 2019-08-19  1294500     B\n",
       "1196     3936777065  2108080724 2019-08-15   202740     B\n",
       "858       192721366  1316129916 2019-08-27    93940     A\n",
       "1136      666610489  1307669133 2019-08-13    92550     A\n",
       "744      3668308183   888512513 2019-08-27    86620     B\n",
       "682      1216533772  4266935830 2019-08-29    78990     B\n",
       "662      1811671147  4266935830 2019-08-29    78990     A\n",
       "743      3603576309  4133034833 2019-08-09    67990     A\n",
       "1103     1348774318  1164614297 2019-08-12    66350     A\n",
       "1099      316924019   148427295 2019-08-12    65710     A"
      ]
     },
     "metadata": {},
     "output_type": "display_data"
    }
   ],
   "source": [
    "# выводим на экран отсортированную таблицу\n",
    "display(orders.sort_values(by='revenue', ascending=False).head(10))\n",
    "x_values = pd.Series(range(0,len( orders['revenue'])))\n"
   ]
  },
  {
   "cell_type": "code",
   "execution_count": 55,
   "metadata": {},
   "outputs": [
    {
     "data": {
      "image/png": "[encoded data removed]",
      "text/plain": [
       "<Figure size 1080x360 with 1 Axes>"
      ]
     },
     "metadata": {
      "needs_background": "light"
     },
     "output_type": "display_data"
    }
   ],
   "source": [
    "plt.figure(figsize=(15,5))\n",
    "plt.scatter(x_values,  orders['revenue'], alpha=0.5)\n",
    "\n",
    "plt.title('Tочечный график стоимостей заказов')\n",
    "\n",
    "\n",
    "plt.xlabel('Частота')\n",
    "plt.ylabel('Стоимость заказов')\n",
    "plt.show()"
   ]
  },
  {
   "cell_type": "markdown",
   "metadata": {},
   "source": [
    "  \n",
    "Из-за одного явного выброса все значения слились в одну прямую, посмотрим на график без него.\n"
   ]
  },
  {
   "cell_type": "code",
   "execution_count": 59,
   "metadata": {},
   "outputs": [
    {
     "data": {
      "image/png": "[encoded data removed]",
      "text/plain": [
       "<Figure size 1080x360 with 1 Axes>"
      ]
     },
     "metadata": {
      "needs_background": "light"
     },
     "output_type": "display_data"
    }
   ],
   "source": [
    "plt.figure(figsize=(15,5))\n",
    "plt.scatter(x_values,  orders['revenue']< 40000, alpha=0.5)\n",
    "\n",
    "plt.title('Tочечный график стоимостей заказов')\n",
    "\n",
    "\n",
    "plt.xlabel('Частота')\n",
    "plt.ylabel('Стоимость заказов')\n",
    "plt.show()"
   ]
  },
  {
   "cell_type": "markdown",
   "metadata": {},
   "source": [
    "Заказы в основном стоимостью до 10 000, единичны 20000 и 130 000. Стоимость заказа в интренет магазине 130 000 кажется очень странной."
   ]
  },
  {
   "cell_type": "markdown",
   "metadata": {},
   "source": [
    "#### 4.9 95-й и 99-й перцентили стоимости заказов"
   ]
  },
  {
   "cell_type": "code",
   "execution_count": 36,
   "metadata": {},
   "outputs": [
    {
     "name": "stdout",
     "output_type": "stream",
     "text": [
      "[18168.  28000.  58233.2]\n"
     ]
    }
   ],
   "source": [
    "# находим перцентили\n",
    "print(np.percentile(orders['revenue'], [90,95,99]))"
   ]
  },
  {
   "cell_type": "markdown",
   "metadata": {},
   "source": [
    "Максимум у 5% заказов чек дороже 28000, и не больше.чем у 1% заказов - дороже 58233. Примем за аномальные те, которые дороже 58000.\n"
   ]
  },
  {
   "cell_type": "markdown",
   "metadata": {},
   "source": [
    "#### 4.10 Cтатистическая значимость "
   ]
  },
  {
   "cell_type": "markdown",
   "metadata": {},
   "source": [
    "##### 4.10.1 различий в конверсии между группами по «сырым» данным."
   ]
  },
  {
   "cell_type": "code",
   "execution_count": 37,
   "metadata": {},
   "outputs": [
    {
     "data": {
      "text/html": [
       "<div>\n",
       "<style scoped>\n",
       "    .dataframe tbody tr th:only-of-type {\n",
       "        vertical-align: middle;\n",
       "    }\n",
       "\n",
       "    .dataframe tbody tr th {\n",
       "        vertical-align: top;\n",
       "    }\n",
       "\n",
       "    .dataframe thead th {\n",
       "        text-align: right;\n",
       "    }\n",
       "</style>\n",
       "<table border=\"1\" class=\"dataframe\">\n",
       "  <thead>\n",
       "    <tr style=\"text-align: right;\">\n",
       "      <th></th>\n",
       "      <th>date</th>\n",
       "      <th>group</th>\n",
       "      <th>visitors</th>\n",
       "    </tr>\n",
       "  </thead>\n",
       "  <tbody>\n",
       "    <tr>\n",
       "      <th>0</th>\n",
       "      <td>2019-08-01</td>\n",
       "      <td>A</td>\n",
       "      <td>719</td>\n",
       "    </tr>\n",
       "    <tr>\n",
       "      <th>1</th>\n",
       "      <td>2019-08-02</td>\n",
       "      <td>A</td>\n",
       "      <td>619</td>\n",
       "    </tr>\n",
       "    <tr>\n",
       "      <th>2</th>\n",
       "      <td>2019-08-03</td>\n",
       "      <td>A</td>\n",
       "      <td>507</td>\n",
       "    </tr>\n",
       "    <tr>\n",
       "      <th>3</th>\n",
       "      <td>2019-08-04</td>\n",
       "      <td>A</td>\n",
       "      <td>717</td>\n",
       "    </tr>\n",
       "    <tr>\n",
       "      <th>4</th>\n",
       "      <td>2019-08-05</td>\n",
       "      <td>A</td>\n",
       "      <td>756</td>\n",
       "    </tr>\n",
       "  </tbody>\n",
       "</table>\n",
       "</div>"
      ],
      "text/plain": [
       "        date group  visitors\n",
       "0 2019-08-01     A       719\n",
       "1 2019-08-02     A       619\n",
       "2 2019-08-03     A       507\n",
       "3 2019-08-04     A       717\n",
       "4 2019-08-05     A       756"
      ]
     },
     "execution_count": 37,
     "metadata": {},
     "output_type": "execute_result"
    }
   ],
   "source": [
    "# вспоним датафрейм `visitors` \n",
    "visitors.head()"
   ]
  },
  {
   "cell_type": "markdown",
   "metadata": {},
   "source": [
    "Создадим две переменные из `visitors` по группам А и В."
   ]
  },
  {
   "cell_type": "code",
   "execution_count": 38,
   "metadata": {},
   "outputs": [
    {
     "data": {
      "text/html": [
       "<div>\n",
       "<style scoped>\n",
       "    .dataframe tbody tr th:only-of-type {\n",
       "        vertical-align: middle;\n",
       "    }\n",
       "\n",
       "    .dataframe tbody tr th {\n",
       "        vertical-align: top;\n",
       "    }\n",
       "\n",
       "    .dataframe thead th {\n",
       "        text-align: right;\n",
       "    }\n",
       "</style>\n",
       "<table border=\"1\" class=\"dataframe\">\n",
       "  <thead>\n",
       "    <tr style=\"text-align: right;\">\n",
       "      <th></th>\n",
       "      <th>date</th>\n",
       "      <th>visitorsPerDateA</th>\n",
       "    </tr>\n",
       "  </thead>\n",
       "  <tbody>\n",
       "    <tr>\n",
       "      <th>0</th>\n",
       "      <td>2019-08-01</td>\n",
       "      <td>719</td>\n",
       "    </tr>\n",
       "    <tr>\n",
       "      <th>1</th>\n",
       "      <td>2019-08-02</td>\n",
       "      <td>619</td>\n",
       "    </tr>\n",
       "    <tr>\n",
       "      <th>2</th>\n",
       "      <td>2019-08-03</td>\n",
       "      <td>507</td>\n",
       "    </tr>\n",
       "    <tr>\n",
       "      <th>3</th>\n",
       "      <td>2019-08-04</td>\n",
       "      <td>717</td>\n",
       "    </tr>\n",
       "    <tr>\n",
       "      <th>4</th>\n",
       "      <td>2019-08-05</td>\n",
       "      <td>756</td>\n",
       "    </tr>\n",
       "  </tbody>\n",
       "</table>\n",
       "</div>"
      ],
      "text/plain": [
       "        date  visitorsPerDateA\n",
       "0 2019-08-01               719\n",
       "1 2019-08-02               619\n",
       "2 2019-08-03               507\n",
       "3 2019-08-04               717\n",
       "4 2019-08-05               756"
      ]
     },
     "metadata": {},
     "output_type": "display_data"
    },
    {
     "data": {
      "text/html": [
       "<div>\n",
       "<style scoped>\n",
       "    .dataframe tbody tr th:only-of-type {\n",
       "        vertical-align: middle;\n",
       "    }\n",
       "\n",
       "    .dataframe tbody tr th {\n",
       "        vertical-align: top;\n",
       "    }\n",
       "\n",
       "    .dataframe thead th {\n",
       "        text-align: right;\n",
       "    }\n",
       "</style>\n",
       "<table border=\"1\" class=\"dataframe\">\n",
       "  <thead>\n",
       "    <tr style=\"text-align: right;\">\n",
       "      <th></th>\n",
       "      <th>date</th>\n",
       "      <th>visitorsPerDateB</th>\n",
       "    </tr>\n",
       "  </thead>\n",
       "  <tbody>\n",
       "    <tr>\n",
       "      <th>31</th>\n",
       "      <td>2019-08-01</td>\n",
       "      <td>713</td>\n",
       "    </tr>\n",
       "    <tr>\n",
       "      <th>32</th>\n",
       "      <td>2019-08-02</td>\n",
       "      <td>581</td>\n",
       "    </tr>\n",
       "    <tr>\n",
       "      <th>33</th>\n",
       "      <td>2019-08-03</td>\n",
       "      <td>509</td>\n",
       "    </tr>\n",
       "    <tr>\n",
       "      <th>34</th>\n",
       "      <td>2019-08-04</td>\n",
       "      <td>770</td>\n",
       "    </tr>\n",
       "    <tr>\n",
       "      <th>35</th>\n",
       "      <td>2019-08-05</td>\n",
       "      <td>707</td>\n",
       "    </tr>\n",
       "  </tbody>\n",
       "</table>\n",
       "</div>"
      ],
      "text/plain": [
       "         date  visitorsPerDateB\n",
       "31 2019-08-01               713\n",
       "32 2019-08-02               581\n",
       "33 2019-08-03               509\n",
       "34 2019-08-04               770\n",
       "35 2019-08-05               707"
      ]
     },
     "metadata": {},
     "output_type": "display_data"
    }
   ],
   "source": [
    "# создаем переменныt с количеством посетителей в день по группам\n",
    "\n",
    "visitorsADaily = visitors[visitors['group']=='A'][['date', 'visitors']]\n",
    "visitorsADaily.columns = ['date', 'visitorsPerDateA']\n",
    "\n",
    "visitorsBDaily = visitors[visitors['group']=='B'][['date', 'visitors']]\n",
    "visitorsBDaily.columns = ['date', 'visitorsPerDateB']\n",
    "\n",
    "display(visitorsADaily.head())\n",
    "display(visitorsBDaily.head())"
   ]
  },
  {
   "cell_type": "code",
   "execution_count": 39,
   "metadata": {},
   "outputs": [
    {
     "data": {
      "text/html": [
       "<div>\n",
       "<style scoped>\n",
       "    .dataframe tbody tr th:only-of-type {\n",
       "        vertical-align: middle;\n",
       "    }\n",
       "\n",
       "    .dataframe tbody tr th {\n",
       "        vertical-align: top;\n",
       "    }\n",
       "\n",
       "    .dataframe thead th {\n",
       "        text-align: right;\n",
       "    }\n",
       "</style>\n",
       "<table border=\"1\" class=\"dataframe\">\n",
       "  <thead>\n",
       "    <tr style=\"text-align: right;\">\n",
       "      <th></th>\n",
       "      <th>transactionId</th>\n",
       "      <th>visitorId</th>\n",
       "      <th>date</th>\n",
       "      <th>revenue</th>\n",
       "      <th>group</th>\n",
       "    </tr>\n",
       "  </thead>\n",
       "  <tbody>\n",
       "    <tr>\n",
       "      <th>0</th>\n",
       "      <td>3667963787</td>\n",
       "      <td>3312258926</td>\n",
       "      <td>2019-08-15</td>\n",
       "      <td>1650</td>\n",
       "      <td>B</td>\n",
       "    </tr>\n",
       "    <tr>\n",
       "      <th>1</th>\n",
       "      <td>2804400009</td>\n",
       "      <td>3642806036</td>\n",
       "      <td>2019-08-15</td>\n",
       "      <td>730</td>\n",
       "      <td>B</td>\n",
       "    </tr>\n",
       "    <tr>\n",
       "      <th>2</th>\n",
       "      <td>2961555356</td>\n",
       "      <td>4069496402</td>\n",
       "      <td>2019-08-15</td>\n",
       "      <td>400</td>\n",
       "      <td>A</td>\n",
       "    </tr>\n",
       "    <tr>\n",
       "      <th>3</th>\n",
       "      <td>3797467345</td>\n",
       "      <td>1196621759</td>\n",
       "      <td>2019-08-15</td>\n",
       "      <td>9759</td>\n",
       "      <td>B</td>\n",
       "    </tr>\n",
       "    <tr>\n",
       "      <th>4</th>\n",
       "      <td>2282983706</td>\n",
       "      <td>2322279887</td>\n",
       "      <td>2019-08-15</td>\n",
       "      <td>2308</td>\n",
       "      <td>B</td>\n",
       "    </tr>\n",
       "  </tbody>\n",
       "</table>\n",
       "</div>"
      ],
      "text/plain": [
       "   transactionId   visitorId       date  revenue group\n",
       "0     3667963787  3312258926 2019-08-15     1650     B\n",
       "1     2804400009  3642806036 2019-08-15      730     B\n",
       "2     2961555356  4069496402 2019-08-15      400     A\n",
       "3     3797467345  1196621759 2019-08-15     9759     B\n",
       "4     2282983706  2322279887 2019-08-15     2308     B"
      ]
     },
     "execution_count": 39,
     "metadata": {},
     "output_type": "execute_result"
    }
   ],
   "source": [
    "# вспоним датафрейм `orders` \n",
    "orders.head()"
   ]
  },
  {
   "cell_type": "code",
   "execution_count": 40,
   "metadata": {},
   "outputs": [
    {
     "data": {
      "text/html": [
       "<div>\n",
       "<style scoped>\n",
       "    .dataframe tbody tr th:only-of-type {\n",
       "        vertical-align: middle;\n",
       "    }\n",
       "\n",
       "    .dataframe tbody tr th {\n",
       "        vertical-align: top;\n",
       "    }\n",
       "\n",
       "    .dataframe thead th {\n",
       "        text-align: right;\n",
       "    }\n",
       "</style>\n",
       "<table border=\"1\" class=\"dataframe\">\n",
       "  <thead>\n",
       "    <tr style=\"text-align: right;\">\n",
       "      <th></th>\n",
       "      <th>date</th>\n",
       "      <th>ordersPerDateA</th>\n",
       "      <th>revenuePerDateA</th>\n",
       "    </tr>\n",
       "  </thead>\n",
       "  <tbody>\n",
       "    <tr>\n",
       "      <th>28</th>\n",
       "      <td>2019-08-29</td>\n",
       "      <td>22</td>\n",
       "      <td>320690</td>\n",
       "    </tr>\n",
       "    <tr>\n",
       "      <th>26</th>\n",
       "      <td>2019-08-27</td>\n",
       "      <td>28</td>\n",
       "      <td>286780</td>\n",
       "    </tr>\n",
       "    <tr>\n",
       "      <th>12</th>\n",
       "      <td>2019-08-13</td>\n",
       "      <td>14</td>\n",
       "      <td>263638</td>\n",
       "    </tr>\n",
       "    <tr>\n",
       "      <th>11</th>\n",
       "      <td>2019-08-12</td>\n",
       "      <td>24</td>\n",
       "      <td>249190</td>\n",
       "    </tr>\n",
       "    <tr>\n",
       "      <th>9</th>\n",
       "      <td>2019-08-10</td>\n",
       "      <td>16</td>\n",
       "      <td>210495</td>\n",
       "    </tr>\n",
       "  </tbody>\n",
       "</table>\n",
       "</div>"
      ],
      "text/plain": [
       "         date  ordersPerDateA  revenuePerDateA\n",
       "28 2019-08-29              22           320690\n",
       "26 2019-08-27              28           286780\n",
       "12 2019-08-13              14           263638\n",
       "11 2019-08-12              24           249190\n",
       "9  2019-08-10              16           210495"
      ]
     },
     "metadata": {},
     "output_type": "display_data"
    },
    {
     "data": {
      "text/html": [
       "<div>\n",
       "<style scoped>\n",
       "    .dataframe tbody tr th:only-of-type {\n",
       "        vertical-align: middle;\n",
       "    }\n",
       "\n",
       "    .dataframe tbody tr th {\n",
       "        vertical-align: top;\n",
       "    }\n",
       "\n",
       "    .dataframe thead th {\n",
       "        text-align: right;\n",
       "    }\n",
       "</style>\n",
       "<table border=\"1\" class=\"dataframe\">\n",
       "  <thead>\n",
       "    <tr style=\"text-align: right;\">\n",
       "      <th></th>\n",
       "      <th>date</th>\n",
       "      <th>ordersPerDateB</th>\n",
       "      <th>revenuePerDateB</th>\n",
       "    </tr>\n",
       "  </thead>\n",
       "  <tbody>\n",
       "    <tr>\n",
       "      <th>18</th>\n",
       "      <td>2019-08-19</td>\n",
       "      <td>21</td>\n",
       "      <td>1429920</td>\n",
       "    </tr>\n",
       "    <tr>\n",
       "      <th>14</th>\n",
       "      <td>2019-08-15</td>\n",
       "      <td>31</td>\n",
       "      <td>342499</td>\n",
       "    </tr>\n",
       "    <tr>\n",
       "      <th>5</th>\n",
       "      <td>2019-08-06</td>\n",
       "      <td>28</td>\n",
       "      <td>242342</td>\n",
       "    </tr>\n",
       "    <tr>\n",
       "      <th>28</th>\n",
       "      <td>2019-08-29</td>\n",
       "      <td>20</td>\n",
       "      <td>231130</td>\n",
       "    </tr>\n",
       "    <tr>\n",
       "      <th>6</th>\n",
       "      <td>2019-08-07</td>\n",
       "      <td>24</td>\n",
       "      <td>225334</td>\n",
       "    </tr>\n",
       "  </tbody>\n",
       "</table>\n",
       "</div>"
      ],
      "text/plain": [
       "         date  ordersPerDateB  revenuePerDateB\n",
       "18 2019-08-19              21          1429920\n",
       "14 2019-08-15              31           342499\n",
       "5  2019-08-06              28           242342\n",
       "28 2019-08-29              20           231130\n",
       "6  2019-08-07              24           225334"
      ]
     },
     "metadata": {},
     "output_type": "display_data"
    }
   ],
   "source": [
    "# создаем переменный с количеством заказов и их стоимости  в день по группам\n",
    "\n",
    "ordersADaily = (orders[orders['group'] == 'A'][['date','transactionId','visitorId', 'revenue']]\n",
    "              .groupby('date', as_index=False)\n",
    "              .agg({'transactionId':pd.Series.nunique, 'revenue':'sum'}))\n",
    "\n",
    "ordersADaily.columns = ['date','ordersPerDateA','revenuePerDateA']\n",
    "\n",
    "\n",
    "ordersBDaily = (orders[orders['group'] == 'B'][['date','transactionId','visitorId', 'revenue']]\n",
    "              .groupby('date', as_index=False)\n",
    "              .agg({'transactionId':pd.Series.nunique, 'revenue':'sum'}))\n",
    "ordersBDaily.columns = ['date','ordersPerDateB','revenuePerDateB']\n",
    "\n",
    "display(ordersADaily.sort_values(by='revenuePerDateA', ascending=False).head())\n",
    "display(ordersBDaily.sort_values(by='revenuePerDateB', ascending=False).head())\n"
   ]
  },
  {
   "cell_type": "code",
   "execution_count": 41,
   "metadata": {},
   "outputs": [
    {
     "data": {
      "text/html": [
       "<div>\n",
       "<style scoped>\n",
       "    .dataframe tbody tr th:only-of-type {\n",
       "        vertical-align: middle;\n",
       "    }\n",
       "\n",
       "    .dataframe tbody tr th {\n",
       "        vertical-align: top;\n",
       "    }\n",
       "\n",
       "    .dataframe thead th {\n",
       "        text-align: right;\n",
       "    }\n",
       "</style>\n",
       "<table border=\"1\" class=\"dataframe\">\n",
       "  <thead>\n",
       "    <tr style=\"text-align: right;\">\n",
       "      <th></th>\n",
       "      <th>date</th>\n",
       "      <th>ordersPerDateA</th>\n",
       "      <th>revenuePerDateA</th>\n",
       "      <th>ordersPerDateB</th>\n",
       "      <th>revenuePerDateB</th>\n",
       "      <th>visitorsPerDateA</th>\n",
       "      <th>visitorsPerDateB</th>\n",
       "    </tr>\n",
       "  </thead>\n",
       "  <tbody>\n",
       "    <tr>\n",
       "      <th>0</th>\n",
       "      <td>2019-08-01</td>\n",
       "      <td>24</td>\n",
       "      <td>148579</td>\n",
       "      <td>21</td>\n",
       "      <td>101217</td>\n",
       "      <td>719</td>\n",
       "      <td>713</td>\n",
       "    </tr>\n",
       "    <tr>\n",
       "      <th>1</th>\n",
       "      <td>2019-08-02</td>\n",
       "      <td>20</td>\n",
       "      <td>93822</td>\n",
       "      <td>24</td>\n",
       "      <td>165531</td>\n",
       "      <td>619</td>\n",
       "      <td>581</td>\n",
       "    </tr>\n",
       "    <tr>\n",
       "      <th>2</th>\n",
       "      <td>2019-08-03</td>\n",
       "      <td>24</td>\n",
       "      <td>112473</td>\n",
       "      <td>16</td>\n",
       "      <td>114248</td>\n",
       "      <td>507</td>\n",
       "      <td>509</td>\n",
       "    </tr>\n",
       "    <tr>\n",
       "      <th>3</th>\n",
       "      <td>2019-08-04</td>\n",
       "      <td>16</td>\n",
       "      <td>70825</td>\n",
       "      <td>17</td>\n",
       "      <td>108571</td>\n",
       "      <td>717</td>\n",
       "      <td>770</td>\n",
       "    </tr>\n",
       "    <tr>\n",
       "      <th>4</th>\n",
       "      <td>2019-08-05</td>\n",
       "      <td>25</td>\n",
       "      <td>124218</td>\n",
       "      <td>23</td>\n",
       "      <td>92428</td>\n",
       "      <td>756</td>\n",
       "      <td>707</td>\n",
       "    </tr>\n",
       "  </tbody>\n",
       "</table>\n",
       "</div>"
      ],
      "text/plain": [
       "        date  ordersPerDateA  revenuePerDateA  ordersPerDateB  \\\n",
       "0 2019-08-01              24           148579              21   \n",
       "1 2019-08-02              20            93822              24   \n",
       "2 2019-08-03              24           112473              16   \n",
       "3 2019-08-04              16            70825              17   \n",
       "4 2019-08-05              25           124218              23   \n",
       "\n",
       "   revenuePerDateB  visitorsPerDateA  visitorsPerDateB  \n",
       "0           101217               719               713  \n",
       "1           165531               619               581  \n",
       "2           114248               507               509  \n",
       "3           108571               717               770  \n",
       "4            92428               756               707  "
      ]
     },
     "metadata": {},
     "output_type": "display_data"
    }
   ],
   "source": [
    "# объединяем `ordersADaily`, `ordersBDaily`, `ordersADaily`, `ordersBDaily`\n",
    "df= (ordersADaily.merge(ordersBDaily, left_on='date', right_on = 'date', how='left')\\\n",
    "    .merge(visitorsADaily, left_on = 'date', right_on = 'date', how='left')\\\n",
    "    .merge(visitorsBDaily, left_on = 'date', right_on = 'date', how='left'))\n",
    "display(df.head())"
   ]
  },
  {
   "cell_type": "markdown",
   "metadata": {},
   "source": [
    "### 5. Проверка гипотез"
   ]
  },
  {
   "cell_type": "markdown",
   "metadata": {},
   "source": [
    "### 5.1 Проверка гипотез по \"сырым\" данным"
   ]
  },
  {
   "cell_type": "markdown",
   "metadata": {},
   "source": [
    " #### 5.1.1 Гипотеза 1 - различия в конверсиях по \"сырым\" данным.\n",
    "  Подготовили данные для тестирования. Нулевая гипотеза  - конверсии в группе В равны конверсиям в группе А. Гипотеза 1 - конерсии не равны. Уровень значимости  выбираем 0,05, проверять гипотезу будем критерием Манна-Уитни."
   ]
  },
  {
   "cell_type": "code",
   "execution_count": 42,
   "metadata": {},
   "outputs": [
    {
     "name": "stdout",
     "output_type": "stream",
     "text": [
      "p-value = 0.017\n",
      "Относительный показатель B к A = 0.138\n"
     ]
    }
   ],
   "source": [
    "# создаем две отдельные переменные, сгруппированные по группам\n",
    "\n",
    "ordersByUsersA = (orders[orders['group'] == 'A']\n",
    "                  .groupby('visitorId', as_index = False).agg({'transactionId':'nunique'}))\n",
    "ordersByUsersB = (orders[orders['group'] == 'B']\n",
    "                  .groupby('visitorId', as_index = False).agg({'transactionId':'nunique'})) \n",
    "                  \n",
    "sampleA = pd.concat([ordersByUsersA['transactionId'],pd.Series(0, index=np.arange(df['visitorsPerDateA'].sum() - len(ordersByUsersA['transactionId'])), name='transactionId')],axis=0)\n",
    "\n",
    "sampleB = pd.concat([ordersByUsersB['transactionId'],pd.Series(0, index=np.arange(df['visitorsPerDateB'].sum() - len(ordersByUsersB['transactionId'])), name='transactionId')],axis=0)\n",
    "\n",
    "\n",
    "                  \n",
    "# расчитываем статистическую значимость различий в конверсии методом Манна_Уитни                  \n",
    "        \n",
    "print('p-value = {0:.3f}'.format(stats.mannwhitneyu(sampleA, sampleB, alternative = 'two-sided')[1]))\n",
    "\n",
    "print('Относительный показатель B к A = {0:.3f}'.format(sampleB.mean() / sampleA.mean() - 1))               "
   ]
  },
  {
   "cell_type": "markdown",
   "metadata": {},
   "source": [
    "P-value 0.017 значительно меньше 0.05, поэтому нулевую гипотезу отвергаем. При анализе \"сырых данных\" видим, что в конверсии есть статистически значимые разлиция. Относительный прирост конверсии группы В к конверсии А равен  13.8%"
   ]
  },
  {
   "cell_type": "markdown",
   "metadata": {},
   "source": [
    "#### 5.1.2 Гипотеза 2 - различия в среднем чеке заказа между группами по «сырым» данным. "
   ]
  },
  {
   "cell_type": "markdown",
   "metadata": {},
   "source": [
    "Проверка гипотезы\n",
    "Подготовили данные для тестирования. Нулевая гипотеза - средние чеки в группе В равны средним чекам в группе А. Гипотеза 1 - средние чеки не равны. Уровень значимости выбираем 0,05, проверять гипотезу будем критерием Манна-Уитни."
   ]
  },
  {
   "cell_type": "code",
   "execution_count": 43,
   "metadata": {},
   "outputs": [
    {
     "name": "stdout",
     "output_type": "stream",
     "text": [
      "p-value = 0.729\n",
      "Относительный показатель среднего чека B к A = 0.259\n"
     ]
    }
   ],
   "source": [
    "# расчитываем статистическую значимость различий в среднем чеке методом Манна_Уитни     \n",
    "print('p-value = {0:.3f}'.format(stats.mannwhitneyu(orders[orders['group']=='A']['revenue'], orders[orders['group']=='B']['revenue'])[1]))\n",
    "print('Относительный показатель среднего чека B к A = {0:.3f}'.format(orders[orders['group']=='B']['revenue'].mean()/orders[orders['group']=='A']['revenue'].mean()-1)) "
   ]
  },
  {
   "cell_type": "markdown",
   "metadata": {},
   "source": [
    "P-value больше 0.05 - статистически значимых отличий в среднем чеке между группами нет. Тем не менее средний чек группы В превышает на 25,9%. "
   ]
  },
  {
   "cell_type": "markdown",
   "metadata": {},
   "source": [
    "### 5.2 Cтатистическая значимость по \" очищенным\" данным."
   ]
  },
  {
   "cell_type": "markdown",
   "metadata": {},
   "source": [
    "#### 5.2.1 Удаление \"выбросов\""
   ]
  },
  {
   "cell_type": "code",
   "execution_count": 44,
   "metadata": {},
   "outputs": [
    {
     "data": {
      "text/plain": [
       "1099    148427295\n",
       "18      199603092\n",
       "23      237748145\n",
       "949     887908475\n",
       "744     888512513\n",
       "Name: visitorId, dtype: int64"
      ]
     },
     "metadata": {},
     "output_type": "display_data"
    },
    {
     "data": {
      "text/plain": [
       "20"
      ]
     },
     "metadata": {},
     "output_type": "display_data"
    }
   ],
   "source": [
    "# выделяем аномальные данные\n",
    "usersWithManyOrders = pd.concat(\n",
    "    [\n",
    "        ordersByUsersA[ordersByUsersA['transactionId'] > 3]['visitorId'],\n",
    "        ordersByUsersB[ordersByUsersB['transactionId'] > 3]['visitorId'],\n",
    "    ],\n",
    "    axis=0,\n",
    ")\n",
    "usersWithExpensiveOrders = orders[orders['revenue'] > 58000]['visitorId']\n",
    "abnormalUsers = (\n",
    "    pd.concat([usersWithManyOrders, usersWithExpensiveOrders], axis=0)\n",
    "    .drop_duplicates()\n",
    "    .sort_values()\n",
    ")\n",
    "display(abnormalUsers.head(5))\n",
    "display(abnormalUsers.shape[0])\n"
   ]
  },
  {
   "cell_type": "code",
   "execution_count": 45,
   "metadata": {},
   "outputs": [
    {
     "data": {
      "text/plain": [
       "1031"
      ]
     },
     "execution_count": 45,
     "metadata": {},
     "output_type": "execute_result"
    }
   ],
   "source": [
    "# смотрим кол-во уникальных пользователей\n",
    "orders['visitorId'].nunique()"
   ]
  },
  {
   "cell_type": "code",
   "execution_count": 46,
   "metadata": {},
   "outputs": [
    {
     "data": {
      "text/plain": [
       "' Доля удаленных данных 0.019'"
      ]
     },
     "metadata": {},
     "output_type": "display_data"
    }
   ],
   "source": [
    "# высчитываем долю аномальных данных\n",
    "deleted = round(abnormalUsers.shape[0]/orders['visitorId'].nunique(),3)\n",
    "display(f' Доля удаленных данных {deleted}')"
   ]
  },
  {
   "cell_type": "markdown",
   "metadata": {},
   "source": [
    "Доля удаленных данных составила 2%, это допустимо.\n"
   ]
  },
  {
   "cell_type": "markdown",
   "metadata": {},
   "source": [
    "#### 5.2.2 Гипотеза 1 - различия в конверсиях"
   ]
  },
  {
   "cell_type": "markdown",
   "metadata": {},
   "source": [
    "Проверка гипотезы после удаления аномальных данных.  \n",
    "  Нулевая гипотеза - конверсии в группе В равны конверсиям в группе А. Гипотеза 1 - конверсии не равны. Уровень значимости выбираем 0,05, проверять гипотезу будем критерием Манна-Уитни."
   ]
  },
  {
   "cell_type": "code",
   "execution_count": 47,
   "metadata": {},
   "outputs": [
    {
     "name": "stdout",
     "output_type": "stream",
     "text": [
      "Cтатистическая значимость различий в конверсии между группами = 0.01390\n",
      "0.151\n"
     ]
    }
   ],
   "source": [
    "# создаем 2 переменные и считаем статистическую значимость\n",
    "sampleAFiltered = pd.concat(\n",
    "    [\n",
    "        ordersByUsersA[\n",
    "            np.logical_not(ordersByUsersA['visitorId'].isin(abnormalUsers))\n",
    "        ]['transactionId'],\n",
    "        pd.Series(\n",
    "            0,\n",
    "            index=np.arange(\n",
    "                df['visitorsPerDateA'].sum() - len(ordersByUsersA['transactionId'])\n",
    "            ),\n",
    "            name='transactionId',\n",
    "        ),\n",
    "    ],\n",
    "    axis=0,\n",
    ")\n",
    "\n",
    "sampleBFiltered = pd.concat(\n",
    "    [\n",
    "        ordersByUsersB[\n",
    "            np.logical_not(ordersByUsersB['visitorId'].isin(abnormalUsers))\n",
    "        ]['transactionId'],\n",
    "        pd.Series(\n",
    "            0,\n",
    "            index=np.arange(\n",
    "                df['visitorsPerDateB'].sum() - len(ordersByUsersB['transactionId'])\n",
    "            ),\n",
    "            name='transactionId',\n",
    "        ),\n",
    "    ],\n",
    "    axis=0,\n",
    ") \n",
    "\n",
    "\n",
    "print('Cтатистическая значимость различий в конверсии между группами = {0:.5f}'.format(stats.mannwhitneyu(sampleAFiltered, sampleBFiltered)[1]))\n",
    "print('{0:.3f}'.format(sampleBFiltered.mean()/sampleAFiltered.mean()-1)) "
   ]
  },
  {
   "cell_type": "markdown",
   "metadata": {},
   "source": [
    "P-value так же меньше , чем 0.05, как и в ситуации с сырыми данными, Сегмент В лучше,чем сегмент А."
   ]
  },
  {
   "cell_type": "markdown",
   "metadata": {},
   "source": [
    "#### 5.2.3 Гипотеза 2 - разлиция в средних чеках"
   ]
  },
  {
   "cell_type": "markdown",
   "metadata": {},
   "source": [
    "Проверка гипотезы после удаления аномальных данных.  \n",
    "  Нулевая гипотеза - средний чек в группе В равны конверсиям в группе А. Гипотеза 1 - средние чеки не равны. Уровень значимости выбираем 0,05, проверять гипотезу будем критерием Манна-Уитни."
   ]
  },
  {
   "cell_type": "code",
   "execution_count": 48,
   "metadata": {},
   "outputs": [
    {
     "name": "stdout",
     "output_type": "stream",
     "text": [
      "Cтатистическая значимость различий в среднем чеке заказа между группами =0.959\n",
      "-0.014\n"
     ]
    }
   ],
   "source": [
    "print('Cтатистическая значимость различий в среднем чеке заказа между группами ={0:.3f}'\\\n",
    "      .format(\n",
    "        stats.mannwhitneyu(\n",
    "            orders[\n",
    "                np.logical_and(\n",
    "                    orders['group'] == 'A',\n",
    "                    np.logical_not(orders['visitorId'].isin(abnormalUsers)),\n",
    "                )\n",
    "            ]['revenue'],\n",
    "            orders[\n",
    "                np.logical_and(\n",
    "                    orders['group'] == 'B',\n",
    "                    np.logical_not(orders['visitorId'].isin(abnormalUsers)),\n",
    "                )\n",
    "            ]['revenue'],\n",
    "        )[1]\n",
    "    )\n",
    ")\n",
    "\n",
    "print('{0:.3f}'\\\n",
    "      .format(\n",
    "        orders[\n",
    "            np.logical_and(\n",
    "                orders['group'] == 'B',\n",
    "                np.logical_not(orders['visitorId'].isin(abnormalUsers)),\n",
    "            )\n",
    "        ]['revenue'].mean()\n",
    "        / orders[\n",
    "            np.logical_and(\n",
    "                orders['group'] == 'A',\n",
    "                np.logical_not(orders['visitorId'].isin(abnormalUsers)),\n",
    "            )\n",
    "        ]['revenue'].mean()\n",
    "        - 1\n",
    "    )\n",
    ") "
   ]
  },
  {
   "cell_type": "markdown",
   "metadata": {},
   "source": [
    "P-value больше 0.05, значит мы не можем говорить о наличии различий в среднем чеке, средний чек группы В ниже на 1.4%"
   ]
  },
  {
   "cell_type": "markdown",
   "metadata": {},
   "source": [
    "### Вывод"
   ]
  },
  {
   "attachments": {
    "image-2.png": {
     "image/png": "[encoded data removed]"
    },
    "image.png": {
     "image/png": "[encoded data removed]"
    }
   },
   "cell_type": "markdown",
   "metadata": {},
   "source": [
    "В  данном исследовании перед нами было две глобальные задачи: 1. приоритизация гипотез и 2. анализ А/В теста.\n",
    "\n",
    "1. Приоритизация гипотез.  \n",
    "  Применив фреймворки ICE и RICE мы приоритизировали наши 9 гипотез и получили при этом разный список приоритетов, что является нормальным явлением. Так по ICE топ-4 гипотез: 8,0,7,6, а по RICE - 7,2,0,6. Итак первая гипотеза по RICE 7 сместила 8 гипотезу за счет высокого параметра Reach, который равен 10, и появилась другая гипотеза под номером 2  так же за счет относительно высокого показаетля Reach 8 и низкого Efforts, равному 3.  \n",
    "\n",
    "2. Анализ А/В теста.\n",
    "* Есть статистически значимые отличия в конверсии, что в \"сырых\", что в \"очищенных\" данных.\n",
    "* Статистическая разница в среднем чеке появляется только после удаления аномалий. Однако при \"сырых\" данных средний чек группы В на 25,9% превышает А, а после отброса аномалий средний чек стал меньше на 1.4%. То есть заказы стали более дешевые, но больше по кол-ву выкупленных.\n",
    "* График различия конверсий между группами показывает, что ближе к завершению теста произошло незначительное снижение после большого скачка,на последней неделе колеблется в пределах 10% прироста относительно группы А и имеет положительную динамику.\n",
    "\n",
    "\n",
    "\n",
    "![image.png](attachment:image.png)\n",
    "\n",
    "* График различия среднего чека колеблется, сделать конкретные выводы по нему нельзя.  \n",
    "![image-2.png](attachment:image-2.png)\n",
    "\n",
    "\n",
    "Тест был успешным, группа В статистически значимо лучше группы А по обеим метрикам, конверсия говорит о фиксации результат с положительной динамикой.\n",
    "  "
   ]
  },
  {
   "cell_type": "code",
   "execution_count": null,
   "metadata": {},
   "outputs": [],
   "source": []
  }
 ],
 "metadata": {
  "ExecuteTimeLog": [
   {
    "duration": 176,
    "start_time": "2022-05-10T19:38:17.309Z"
   },
   {
    "duration": 1638,
    "start_time": "2022-05-10T20:19:07.395Z"
   },
   {
    "duration": 170,
    "start_time": "2022-05-10T20:39:34.664Z"
   },
   {
    "duration": 41,
    "start_time": "2022-05-10T20:40:07.678Z"
   },
   {
    "duration": 50,
    "start_time": "2022-05-10T20:40:44.897Z"
   },
   {
    "duration": 66,
    "start_time": "2022-05-10T20:41:38.528Z"
   },
   {
    "duration": 15,
    "start_time": "2022-05-10T20:44:17.266Z"
   },
   {
    "duration": 13,
    "start_time": "2022-05-10T20:47:06.551Z"
   },
   {
    "duration": 17,
    "start_time": "2022-05-10T20:48:10.336Z"
   },
   {
    "duration": 108,
    "start_time": "2022-05-10T21:13:57.191Z"
   },
   {
    "duration": 5,
    "start_time": "2022-05-10T21:14:04.230Z"
   },
   {
    "duration": 11,
    "start_time": "2022-05-10T21:14:07.582Z"
   },
   {
    "duration": 54,
    "start_time": "2022-05-10T21:16:47.533Z"
   },
   {
    "duration": 17,
    "start_time": "2022-05-10T21:19:40.724Z"
   },
   {
    "duration": 12,
    "start_time": "2022-05-10T21:22:50.791Z"
   },
   {
    "duration": 48,
    "start_time": "2022-05-11T18:21:01.152Z"
   },
   {
    "duration": 1326,
    "start_time": "2022-05-11T18:21:13.792Z"
   },
   {
    "duration": 40,
    "start_time": "2022-05-11T18:21:15.120Z"
   },
   {
    "duration": 13,
    "start_time": "2022-05-11T18:21:15.162Z"
   },
   {
    "duration": 3,
    "start_time": "2022-05-11T18:21:15.177Z"
   },
   {
    "duration": 14,
    "start_time": "2022-05-11T18:21:15.182Z"
   },
   {
    "duration": 14,
    "start_time": "2022-05-11T18:21:15.198Z"
   },
   {
    "duration": 12,
    "start_time": "2022-05-11T18:21:15.213Z"
   },
   {
    "duration": 10,
    "start_time": "2022-05-11T18:21:15.227Z"
   },
   {
    "duration": 11,
    "start_time": "2022-05-11T18:21:46.517Z"
   },
   {
    "duration": 623,
    "start_time": "2022-05-11T18:24:16.644Z"
   },
   {
    "duration": 41,
    "start_time": "2022-05-11T18:24:17.269Z"
   },
   {
    "duration": 14,
    "start_time": "2022-05-11T18:24:17.312Z"
   },
   {
    "duration": 4,
    "start_time": "2022-05-11T18:24:17.328Z"
   },
   {
    "duration": 17,
    "start_time": "2022-05-11T18:24:17.334Z"
   },
   {
    "duration": 14,
    "start_time": "2022-05-11T18:24:17.353Z"
   },
   {
    "duration": 21,
    "start_time": "2022-05-11T18:24:17.369Z"
   },
   {
    "duration": 12,
    "start_time": "2022-05-11T18:24:17.391Z"
   },
   {
    "duration": 12,
    "start_time": "2022-05-11T18:24:17.405Z"
   },
   {
    "duration": 8,
    "start_time": "2022-05-11T18:27:00.149Z"
   },
   {
    "duration": 10,
    "start_time": "2022-05-11T18:27:24.876Z"
   },
   {
    "duration": 372,
    "start_time": "2022-05-11T18:40:23.653Z"
   },
   {
    "duration": 452,
    "start_time": "2022-05-11T18:44:02.682Z"
   },
   {
    "duration": 333,
    "start_time": "2022-05-11T18:47:10.535Z"
   },
   {
    "duration": 13,
    "start_time": "2022-05-11T18:47:43.191Z"
   },
   {
    "duration": 315,
    "start_time": "2022-05-11T18:48:17.048Z"
   },
   {
    "duration": 322,
    "start_time": "2022-05-11T18:49:17.078Z"
   },
   {
    "duration": 43,
    "start_time": "2022-05-11T19:01:16.321Z"
   },
   {
    "duration": 269,
    "start_time": "2022-05-11T19:02:16.236Z"
   },
   {
    "duration": 5,
    "start_time": "2022-05-11T19:03:39.921Z"
   },
   {
    "duration": 7,
    "start_time": "2022-05-11T19:04:05.168Z"
   },
   {
    "duration": 7,
    "start_time": "2022-05-11T19:04:11.686Z"
   },
   {
    "duration": 247,
    "start_time": "2022-05-11T19:06:00.767Z"
   },
   {
    "duration": 186,
    "start_time": "2022-05-11T19:08:58.778Z"
   },
   {
    "duration": 271,
    "start_time": "2022-05-11T19:10:22.776Z"
   },
   {
    "duration": 187,
    "start_time": "2022-05-11T19:12:17.530Z"
   },
   {
    "duration": 389,
    "start_time": "2022-05-11T19:13:39.611Z"
   },
   {
    "duration": 153,
    "start_time": "2022-05-11T19:14:47.756Z"
   },
   {
    "duration": 186,
    "start_time": "2022-05-11T19:19:19.733Z"
   },
   {
    "duration": 196,
    "start_time": "2022-05-11T19:26:46.501Z"
   },
   {
    "duration": 223,
    "start_time": "2022-05-11T19:27:33.376Z"
   },
   {
    "duration": 199,
    "start_time": "2022-05-11T19:27:55.744Z"
   },
   {
    "duration": 195,
    "start_time": "2022-05-11T19:28:00.040Z"
   },
   {
    "duration": 181,
    "start_time": "2022-05-11T19:28:46.205Z"
   },
   {
    "duration": 278,
    "start_time": "2022-05-11T19:34:13.180Z"
   },
   {
    "duration": 264,
    "start_time": "2022-05-11T19:41:10.015Z"
   },
   {
    "duration": 294,
    "start_time": "2022-05-11T19:42:41.376Z"
   },
   {
    "duration": 288,
    "start_time": "2022-05-11T19:46:05.966Z"
   },
   {
    "duration": 179,
    "start_time": "2022-05-11T19:52:55.783Z"
   },
   {
    "duration": 270,
    "start_time": "2022-05-11T19:59:11.321Z"
   },
   {
    "duration": 302,
    "start_time": "2022-05-11T20:03:13.410Z"
   },
   {
    "duration": 18,
    "start_time": "2022-05-11T20:15:35.174Z"
   },
   {
    "duration": 13,
    "start_time": "2022-05-11T20:16:37.457Z"
   },
   {
    "duration": 17,
    "start_time": "2022-05-11T20:16:45.131Z"
   },
   {
    "duration": 113,
    "start_time": "2022-05-11T20:17:46.806Z"
   },
   {
    "duration": 117,
    "start_time": "2022-05-11T20:18:07.662Z"
   },
   {
    "duration": 113,
    "start_time": "2022-05-11T20:21:45.752Z"
   },
   {
    "duration": 5,
    "start_time": "2022-05-11T20:23:21.231Z"
   },
   {
    "duration": 1276,
    "start_time": "2022-05-11T20:29:23.414Z"
   },
   {
    "duration": 127,
    "start_time": "2022-05-11T20:30:20.851Z"
   },
   {
    "duration": 1387,
    "start_time": "2022-05-11T20:31:58.191Z"
   },
   {
    "duration": 156,
    "start_time": "2022-05-11T20:33:02.210Z"
   },
   {
    "duration": 133,
    "start_time": "2022-05-11T20:33:15.314Z"
   },
   {
    "duration": 154,
    "start_time": "2022-05-11T20:35:09.353Z"
   },
   {
    "duration": 236,
    "start_time": "2022-05-11T20:36:15.587Z"
   },
   {
    "duration": 5,
    "start_time": "2022-05-11T20:39:19.601Z"
   },
   {
    "duration": 86,
    "start_time": "2022-05-12T13:29:16.828Z"
   },
   {
    "duration": 45,
    "start_time": "2022-05-12T13:29:59.441Z"
   },
   {
    "duration": 1129,
    "start_time": "2022-05-12T13:30:21.639Z"
   },
   {
    "duration": 40,
    "start_time": "2022-05-12T13:30:22.770Z"
   },
   {
    "duration": 13,
    "start_time": "2022-05-12T13:30:22.815Z"
   },
   {
    "duration": 4,
    "start_time": "2022-05-12T13:30:22.829Z"
   },
   {
    "duration": 13,
    "start_time": "2022-05-12T13:30:22.835Z"
   },
   {
    "duration": 13,
    "start_time": "2022-05-12T13:30:22.849Z"
   },
   {
    "duration": 10,
    "start_time": "2022-05-12T13:30:22.871Z"
   },
   {
    "duration": 7,
    "start_time": "2022-05-12T13:30:22.884Z"
   },
   {
    "duration": 9,
    "start_time": "2022-05-12T13:30:22.895Z"
   },
   {
    "duration": 9,
    "start_time": "2022-05-12T13:30:22.906Z"
   },
   {
    "duration": 10,
    "start_time": "2022-05-12T13:30:22.917Z"
   },
   {
    "duration": 107,
    "start_time": "2022-05-12T13:30:22.929Z"
   },
   {
    "duration": 0,
    "start_time": "2022-05-12T13:30:23.038Z"
   },
   {
    "duration": 0,
    "start_time": "2022-05-12T13:30:23.039Z"
   },
   {
    "duration": 0,
    "start_time": "2022-05-12T13:30:23.041Z"
   },
   {
    "duration": 0,
    "start_time": "2022-05-12T13:30:23.042Z"
   },
   {
    "duration": 0,
    "start_time": "2022-05-12T13:30:23.044Z"
   },
   {
    "duration": 0,
    "start_time": "2022-05-12T13:30:23.045Z"
   },
   {
    "duration": 0,
    "start_time": "2022-05-12T13:30:23.047Z"
   },
   {
    "duration": 0,
    "start_time": "2022-05-12T13:30:23.048Z"
   },
   {
    "duration": 0,
    "start_time": "2022-05-12T13:30:23.049Z"
   },
   {
    "duration": 0,
    "start_time": "2022-05-12T13:30:23.071Z"
   },
   {
    "duration": 0,
    "start_time": "2022-05-12T13:30:23.073Z"
   },
   {
    "duration": 645,
    "start_time": "2022-05-12T13:31:37.374Z"
   },
   {
    "duration": 35,
    "start_time": "2022-05-12T13:31:38.021Z"
   },
   {
    "duration": 11,
    "start_time": "2022-05-12T13:31:38.058Z"
   },
   {
    "duration": 4,
    "start_time": "2022-05-12T13:31:38.071Z"
   },
   {
    "duration": 13,
    "start_time": "2022-05-12T13:31:38.076Z"
   },
   {
    "duration": 14,
    "start_time": "2022-05-12T13:31:38.090Z"
   },
   {
    "duration": 10,
    "start_time": "2022-05-12T13:31:38.106Z"
   },
   {
    "duration": 13,
    "start_time": "2022-05-12T13:31:38.118Z"
   },
   {
    "duration": 13,
    "start_time": "2022-05-12T13:31:38.132Z"
   },
   {
    "duration": 7,
    "start_time": "2022-05-12T13:31:38.172Z"
   },
   {
    "duration": 13,
    "start_time": "2022-05-12T13:31:38.181Z"
   },
   {
    "duration": 422,
    "start_time": "2022-05-12T13:31:38.196Z"
   },
   {
    "duration": 257,
    "start_time": "2022-05-12T13:31:38.620Z"
   },
   {
    "duration": 6,
    "start_time": "2022-05-12T13:31:38.878Z"
   },
   {
    "duration": 235,
    "start_time": "2022-05-12T13:31:38.885Z"
   },
   {
    "duration": 315,
    "start_time": "2022-05-12T13:31:39.122Z"
   },
   {
    "duration": 373,
    "start_time": "2022-05-12T13:31:39.439Z"
   },
   {
    "duration": 0,
    "start_time": "2022-05-12T13:31:39.815Z"
   },
   {
    "duration": 0,
    "start_time": "2022-05-12T13:31:39.816Z"
   },
   {
    "duration": 0,
    "start_time": "2022-05-12T13:31:39.817Z"
   },
   {
    "duration": 0,
    "start_time": "2022-05-12T13:31:39.818Z"
   },
   {
    "duration": 0,
    "start_time": "2022-05-12T13:31:39.819Z"
   },
   {
    "duration": 0,
    "start_time": "2022-05-12T13:31:39.820Z"
   },
   {
    "duration": 851,
    "start_time": "2022-05-12T13:36:17.538Z"
   },
   {
    "duration": 40,
    "start_time": "2022-05-12T13:36:18.391Z"
   },
   {
    "duration": 12,
    "start_time": "2022-05-12T13:36:18.433Z"
   },
   {
    "duration": 3,
    "start_time": "2022-05-12T13:36:18.448Z"
   },
   {
    "duration": 13,
    "start_time": "2022-05-12T13:36:18.453Z"
   },
   {
    "duration": 19,
    "start_time": "2022-05-12T13:36:18.468Z"
   },
   {
    "duration": 16,
    "start_time": "2022-05-12T13:36:18.489Z"
   },
   {
    "duration": 11,
    "start_time": "2022-05-12T13:36:18.507Z"
   },
   {
    "duration": 13,
    "start_time": "2022-05-12T13:36:18.520Z"
   },
   {
    "duration": 36,
    "start_time": "2022-05-12T13:36:18.536Z"
   },
   {
    "duration": 11,
    "start_time": "2022-05-12T13:36:18.574Z"
   },
   {
    "duration": 284,
    "start_time": "2022-05-12T13:36:18.587Z"
   },
   {
    "duration": 259,
    "start_time": "2022-05-12T13:36:18.873Z"
   },
   {
    "duration": 7,
    "start_time": "2022-05-12T13:36:19.134Z"
   },
   {
    "duration": 381,
    "start_time": "2022-05-12T13:36:19.143Z"
   },
   {
    "duration": 367,
    "start_time": "2022-05-12T13:36:19.526Z"
   },
   {
    "duration": 407,
    "start_time": "2022-05-12T13:36:19.894Z"
   },
   {
    "duration": 0,
    "start_time": "2022-05-12T13:36:20.303Z"
   },
   {
    "duration": 0,
    "start_time": "2022-05-12T13:36:20.304Z"
   },
   {
    "duration": 0,
    "start_time": "2022-05-12T13:36:20.305Z"
   },
   {
    "duration": 0,
    "start_time": "2022-05-12T13:36:20.306Z"
   },
   {
    "duration": 0,
    "start_time": "2022-05-12T13:36:20.307Z"
   },
   {
    "duration": 0,
    "start_time": "2022-05-12T13:36:20.308Z"
   },
   {
    "duration": 590,
    "start_time": "2022-05-12T13:40:32.167Z"
   },
   {
    "duration": 341,
    "start_time": "2022-05-12T13:43:25.662Z"
   },
   {
    "duration": 243,
    "start_time": "2022-05-12T13:43:53.188Z"
   },
   {
    "duration": 610,
    "start_time": "2022-05-12T13:44:27.903Z"
   },
   {
    "duration": 34,
    "start_time": "2022-05-12T13:44:28.515Z"
   },
   {
    "duration": 11,
    "start_time": "2022-05-12T13:44:28.550Z"
   },
   {
    "duration": 3,
    "start_time": "2022-05-12T13:44:28.564Z"
   },
   {
    "duration": 13,
    "start_time": "2022-05-12T13:44:28.568Z"
   },
   {
    "duration": 14,
    "start_time": "2022-05-12T13:44:28.583Z"
   },
   {
    "duration": 10,
    "start_time": "2022-05-12T13:44:28.598Z"
   },
   {
    "duration": 8,
    "start_time": "2022-05-12T13:44:28.610Z"
   },
   {
    "duration": 11,
    "start_time": "2022-05-12T13:44:28.619Z"
   },
   {
    "duration": 8,
    "start_time": "2022-05-12T13:44:28.632Z"
   },
   {
    "duration": 38,
    "start_time": "2022-05-12T13:44:28.641Z"
   },
   {
    "duration": 271,
    "start_time": "2022-05-12T13:44:28.681Z"
   },
   {
    "duration": 249,
    "start_time": "2022-05-12T13:44:28.954Z"
   },
   {
    "duration": 6,
    "start_time": "2022-05-12T13:44:29.205Z"
   },
   {
    "duration": 245,
    "start_time": "2022-05-12T13:44:29.212Z"
   },
   {
    "duration": 355,
    "start_time": "2022-05-12T13:44:29.459Z"
   },
   {
    "duration": 567,
    "start_time": "2022-05-12T13:44:29.816Z"
   },
   {
    "duration": 0,
    "start_time": "2022-05-12T13:44:30.385Z"
   },
   {
    "duration": 0,
    "start_time": "2022-05-12T13:44:30.386Z"
   },
   {
    "duration": 0,
    "start_time": "2022-05-12T13:44:30.387Z"
   },
   {
    "duration": 0,
    "start_time": "2022-05-12T13:44:30.388Z"
   },
   {
    "duration": 0,
    "start_time": "2022-05-12T13:44:30.389Z"
   },
   {
    "duration": 0,
    "start_time": "2022-05-12T13:44:30.390Z"
   },
   {
    "duration": 394,
    "start_time": "2022-05-12T13:51:57.763Z"
   },
   {
    "duration": 386,
    "start_time": "2022-05-12T13:52:09.074Z"
   },
   {
    "duration": 487,
    "start_time": "2022-05-12T13:53:29.549Z"
   },
   {
    "duration": 371,
    "start_time": "2022-05-12T13:54:07.052Z"
   },
   {
    "duration": 234,
    "start_time": "2022-05-12T13:57:45.150Z"
   },
   {
    "duration": 233,
    "start_time": "2022-05-12T13:59:56.316Z"
   },
   {
    "duration": 238,
    "start_time": "2022-05-12T14:00:40.500Z"
   },
   {
    "duration": 131,
    "start_time": "2022-05-12T14:02:52.828Z"
   },
   {
    "duration": 140,
    "start_time": "2022-05-12T14:03:07.161Z"
   },
   {
    "duration": 260,
    "start_time": "2022-05-12T14:03:29.728Z"
   },
   {
    "duration": 442,
    "start_time": "2022-05-12T14:04:06.761Z"
   },
   {
    "duration": 341,
    "start_time": "2022-05-12T14:04:54.189Z"
   },
   {
    "duration": 357,
    "start_time": "2022-05-12T14:05:17.939Z"
   },
   {
    "duration": 327,
    "start_time": "2022-05-12T14:05:32.512Z"
   },
   {
    "duration": 516,
    "start_time": "2022-05-12T14:05:57.615Z"
   },
   {
    "duration": 184,
    "start_time": "2022-05-12T14:06:35.848Z"
   },
   {
    "duration": 241,
    "start_time": "2022-05-12T14:07:35.603Z"
   },
   {
    "duration": 242,
    "start_time": "2022-05-12T14:11:23.483Z"
   },
   {
    "duration": 227,
    "start_time": "2022-05-12T14:11:58.014Z"
   },
   {
    "duration": 236,
    "start_time": "2022-05-12T14:13:01.879Z"
   },
   {
    "duration": 237,
    "start_time": "2022-05-12T14:15:09.793Z"
   },
   {
    "duration": 333,
    "start_time": "2022-05-12T14:15:22.340Z"
   },
   {
    "duration": 251,
    "start_time": "2022-05-12T14:17:05.239Z"
   },
   {
    "duration": 247,
    "start_time": "2022-05-12T14:17:35.710Z"
   },
   {
    "duration": 5,
    "start_time": "2022-05-12T14:18:01.438Z"
   },
   {
    "duration": 291,
    "start_time": "2022-05-12T14:18:13.669Z"
   },
   {
    "duration": 342,
    "start_time": "2022-05-12T14:18:48.784Z"
   },
   {
    "duration": 359,
    "start_time": "2022-05-12T14:19:16.874Z"
   },
   {
    "duration": 359,
    "start_time": "2022-05-12T14:19:42.552Z"
   },
   {
    "duration": 361,
    "start_time": "2022-05-12T14:20:53.131Z"
   },
   {
    "duration": 246,
    "start_time": "2022-05-12T14:29:55.682Z"
   },
   {
    "duration": 252,
    "start_time": "2022-05-12T17:43:36.750Z"
   },
   {
    "duration": 666,
    "start_time": "2022-05-12T17:43:49.810Z"
   },
   {
    "duration": 64,
    "start_time": "2022-05-12T17:43:50.480Z"
   },
   {
    "duration": 14,
    "start_time": "2022-05-12T17:43:50.546Z"
   },
   {
    "duration": 4,
    "start_time": "2022-05-12T17:43:50.562Z"
   },
   {
    "duration": 17,
    "start_time": "2022-05-12T17:43:50.568Z"
   },
   {
    "duration": 15,
    "start_time": "2022-05-12T17:43:50.587Z"
   },
   {
    "duration": 9,
    "start_time": "2022-05-12T17:43:50.604Z"
   },
   {
    "duration": 14,
    "start_time": "2022-05-12T17:43:50.615Z"
   },
   {
    "duration": 19,
    "start_time": "2022-05-12T17:43:50.631Z"
   },
   {
    "duration": 12,
    "start_time": "2022-05-12T17:43:50.652Z"
   },
   {
    "duration": 17,
    "start_time": "2022-05-12T17:43:50.665Z"
   },
   {
    "duration": 265,
    "start_time": "2022-05-12T17:43:50.683Z"
   },
   {
    "duration": 257,
    "start_time": "2022-05-12T17:43:50.950Z"
   },
   {
    "duration": 6,
    "start_time": "2022-05-12T17:43:51.208Z"
   },
   {
    "duration": 235,
    "start_time": "2022-05-12T17:43:51.215Z"
   },
   {
    "duration": 365,
    "start_time": "2022-05-12T17:43:51.452Z"
   },
   {
    "duration": 400,
    "start_time": "2022-05-12T17:43:51.819Z"
   },
   {
    "duration": 0,
    "start_time": "2022-05-12T17:43:52.221Z"
   },
   {
    "duration": 0,
    "start_time": "2022-05-12T17:43:52.222Z"
   },
   {
    "duration": 0,
    "start_time": "2022-05-12T17:43:52.224Z"
   },
   {
    "duration": 0,
    "start_time": "2022-05-12T17:43:52.225Z"
   },
   {
    "duration": 0,
    "start_time": "2022-05-12T17:43:52.227Z"
   },
   {
    "duration": 0,
    "start_time": "2022-05-12T17:43:52.228Z"
   },
   {
    "duration": 579,
    "start_time": "2022-05-12T18:04:12.317Z"
   },
   {
    "duration": 34,
    "start_time": "2022-05-12T18:04:12.898Z"
   },
   {
    "duration": 10,
    "start_time": "2022-05-12T18:04:12.934Z"
   },
   {
    "duration": 3,
    "start_time": "2022-05-12T18:04:12.946Z"
   },
   {
    "duration": 11,
    "start_time": "2022-05-12T18:04:12.951Z"
   },
   {
    "duration": 10,
    "start_time": "2022-05-12T18:04:12.963Z"
   },
   {
    "duration": 9,
    "start_time": "2022-05-12T18:04:12.975Z"
   },
   {
    "duration": 8,
    "start_time": "2022-05-12T18:04:12.985Z"
   },
   {
    "duration": 9,
    "start_time": "2022-05-12T18:04:12.995Z"
   },
   {
    "duration": 10,
    "start_time": "2022-05-12T18:04:13.007Z"
   },
   {
    "duration": 10,
    "start_time": "2022-05-12T18:04:13.018Z"
   },
   {
    "duration": 269,
    "start_time": "2022-05-12T18:04:13.030Z"
   },
   {
    "duration": 240,
    "start_time": "2022-05-12T18:04:13.301Z"
   },
   {
    "duration": 5,
    "start_time": "2022-05-12T18:04:13.543Z"
   },
   {
    "duration": 242,
    "start_time": "2022-05-12T18:04:13.549Z"
   },
   {
    "duration": 323,
    "start_time": "2022-05-12T18:04:13.792Z"
   },
   {
    "duration": 350,
    "start_time": "2022-05-12T18:04:14.116Z"
   },
   {
    "duration": 0,
    "start_time": "2022-05-12T18:04:14.470Z"
   },
   {
    "duration": 0,
    "start_time": "2022-05-12T18:04:14.471Z"
   },
   {
    "duration": 0,
    "start_time": "2022-05-12T18:04:14.473Z"
   },
   {
    "duration": 0,
    "start_time": "2022-05-12T18:04:14.474Z"
   },
   {
    "duration": 0,
    "start_time": "2022-05-12T18:04:14.475Z"
   },
   {
    "duration": 0,
    "start_time": "2022-05-12T18:04:14.476Z"
   },
   {
    "duration": 19,
    "start_time": "2022-05-12T18:10:29.426Z"
   },
   {
    "duration": 591,
    "start_time": "2022-05-12T18:10:43.727Z"
   },
   {
    "duration": 44,
    "start_time": "2022-05-12T18:10:44.320Z"
   },
   {
    "duration": 19,
    "start_time": "2022-05-12T18:10:44.365Z"
   },
   {
    "duration": 5,
    "start_time": "2022-05-12T18:10:44.386Z"
   },
   {
    "duration": 11,
    "start_time": "2022-05-12T18:10:44.392Z"
   },
   {
    "duration": 11,
    "start_time": "2022-05-12T18:10:44.405Z"
   },
   {
    "duration": 10,
    "start_time": "2022-05-12T18:10:44.417Z"
   },
   {
    "duration": 10,
    "start_time": "2022-05-12T18:10:44.429Z"
   },
   {
    "duration": 37,
    "start_time": "2022-05-12T18:10:44.441Z"
   },
   {
    "duration": 12,
    "start_time": "2022-05-12T18:10:44.481Z"
   },
   {
    "duration": 11,
    "start_time": "2022-05-12T18:10:44.495Z"
   },
   {
    "duration": 19,
    "start_time": "2022-05-12T18:10:44.507Z"
   },
   {
    "duration": 284,
    "start_time": "2022-05-12T18:10:44.528Z"
   },
   {
    "duration": 246,
    "start_time": "2022-05-12T18:10:44.814Z"
   },
   {
    "duration": 13,
    "start_time": "2022-05-12T18:10:45.061Z"
   },
   {
    "duration": 155,
    "start_time": "2022-05-12T18:10:45.080Z"
   },
   {
    "duration": 314,
    "start_time": "2022-05-12T18:10:45.237Z"
   },
   {
    "duration": 257,
    "start_time": "2022-05-12T18:10:45.553Z"
   },
   {
    "duration": 346,
    "start_time": "2022-05-12T18:10:45.812Z"
   },
   {
    "duration": 0,
    "start_time": "2022-05-12T18:10:46.159Z"
   },
   {
    "duration": 0,
    "start_time": "2022-05-12T18:10:46.160Z"
   },
   {
    "duration": 0,
    "start_time": "2022-05-12T18:10:46.161Z"
   },
   {
    "duration": 0,
    "start_time": "2022-05-12T18:10:46.162Z"
   },
   {
    "duration": 0,
    "start_time": "2022-05-12T18:10:46.163Z"
   },
   {
    "duration": 431,
    "start_time": "2022-05-12T18:11:57.751Z"
   },
   {
    "duration": 330,
    "start_time": "2022-05-12T18:12:27.270Z"
   },
   {
    "duration": 668,
    "start_time": "2022-05-12T18:13:20.947Z"
   },
   {
    "duration": 39,
    "start_time": "2022-05-12T18:13:21.617Z"
   },
   {
    "duration": 10,
    "start_time": "2022-05-12T18:13:21.658Z"
   },
   {
    "duration": 3,
    "start_time": "2022-05-12T18:13:21.670Z"
   },
   {
    "duration": 23,
    "start_time": "2022-05-12T18:13:21.674Z"
   },
   {
    "duration": 10,
    "start_time": "2022-05-12T18:13:21.699Z"
   },
   {
    "duration": 9,
    "start_time": "2022-05-12T18:13:21.711Z"
   },
   {
    "duration": 7,
    "start_time": "2022-05-12T18:13:21.721Z"
   },
   {
    "duration": 9,
    "start_time": "2022-05-12T18:13:21.730Z"
   },
   {
    "duration": 7,
    "start_time": "2022-05-12T18:13:21.741Z"
   },
   {
    "duration": 42,
    "start_time": "2022-05-12T18:13:21.749Z"
   },
   {
    "duration": 19,
    "start_time": "2022-05-12T18:13:21.793Z"
   },
   {
    "duration": 272,
    "start_time": "2022-05-12T18:13:21.814Z"
   },
   {
    "duration": 243,
    "start_time": "2022-05-12T18:13:22.088Z"
   },
   {
    "duration": 5,
    "start_time": "2022-05-12T18:13:22.333Z"
   },
   {
    "duration": 182,
    "start_time": "2022-05-12T18:13:22.339Z"
   },
   {
    "duration": 252,
    "start_time": "2022-05-12T18:13:22.523Z"
   },
   {
    "duration": 243,
    "start_time": "2022-05-12T18:13:22.776Z"
   },
   {
    "duration": 287,
    "start_time": "2022-05-12T18:13:23.020Z"
   },
   {
    "duration": 104,
    "start_time": "2022-05-12T18:13:23.308Z"
   },
   {
    "duration": 4,
    "start_time": "2022-05-12T18:13:23.414Z"
   },
   {
    "duration": 136,
    "start_time": "2022-05-12T18:13:23.419Z"
   },
   {
    "duration": 4,
    "start_time": "2022-05-12T18:13:23.556Z"
   },
   {
    "duration": 85,
    "start_time": "2022-05-12T18:13:23.561Z"
   },
   {
    "duration": 9,
    "start_time": "2022-05-12T18:23:53.791Z"
   },
   {
    "duration": 84,
    "start_time": "2022-05-12T18:43:38.845Z"
   },
   {
    "duration": 14,
    "start_time": "2022-05-12T18:43:51.697Z"
   },
   {
    "duration": 94,
    "start_time": "2022-05-12T18:49:09.651Z"
   },
   {
    "duration": 14,
    "start_time": "2022-05-12T18:49:35.287Z"
   },
   {
    "duration": 17,
    "start_time": "2022-05-12T18:50:24.710Z"
   },
   {
    "duration": 19,
    "start_time": "2022-05-12T18:50:38.244Z"
   },
   {
    "duration": 32,
    "start_time": "2022-05-12T18:52:02.315Z"
   },
   {
    "duration": 31,
    "start_time": "2022-05-12T18:53:47.354Z"
   },
   {
    "duration": 37,
    "start_time": "2022-05-12T18:54:16.767Z"
   },
   {
    "duration": 30,
    "start_time": "2022-05-12T18:54:26.632Z"
   },
   {
    "duration": 10,
    "start_time": "2022-05-12T18:57:35.632Z"
   },
   {
    "duration": 156,
    "start_time": "2022-05-12T19:01:21.558Z"
   },
   {
    "duration": 158,
    "start_time": "2022-05-12T19:01:50.020Z"
   },
   {
    "duration": 1074,
    "start_time": "2022-05-12T19:02:34.288Z"
   },
   {
    "duration": 41,
    "start_time": "2022-05-12T19:02:35.370Z"
   },
   {
    "duration": 16,
    "start_time": "2022-05-12T19:02:35.413Z"
   },
   {
    "duration": 4,
    "start_time": "2022-05-12T19:02:35.431Z"
   },
   {
    "duration": 14,
    "start_time": "2022-05-12T19:02:35.436Z"
   },
   {
    "duration": 14,
    "start_time": "2022-05-12T19:02:35.452Z"
   },
   {
    "duration": 10,
    "start_time": "2022-05-12T19:02:35.468Z"
   },
   {
    "duration": 10,
    "start_time": "2022-05-12T19:02:35.479Z"
   },
   {
    "duration": 13,
    "start_time": "2022-05-12T19:02:35.491Z"
   },
   {
    "duration": 11,
    "start_time": "2022-05-12T19:02:35.507Z"
   },
   {
    "duration": 12,
    "start_time": "2022-05-12T19:02:35.520Z"
   },
   {
    "duration": 59,
    "start_time": "2022-05-12T19:02:35.534Z"
   },
   {
    "duration": 395,
    "start_time": "2022-05-12T19:02:35.595Z"
   },
   {
    "duration": 369,
    "start_time": "2022-05-12T19:02:35.992Z"
   },
   {
    "duration": 11,
    "start_time": "2022-05-12T19:02:36.363Z"
   },
   {
    "duration": 244,
    "start_time": "2022-05-12T19:02:36.375Z"
   },
   {
    "duration": 360,
    "start_time": "2022-05-12T19:02:36.620Z"
   },
   {
    "duration": 299,
    "start_time": "2022-05-12T19:02:36.982Z"
   },
   {
    "duration": 407,
    "start_time": "2022-05-12T19:02:37.282Z"
   },
   {
    "duration": 105,
    "start_time": "2022-05-12T19:02:37.691Z"
   },
   {
    "duration": 5,
    "start_time": "2022-05-12T19:02:37.797Z"
   },
   {
    "duration": 190,
    "start_time": "2022-05-12T19:02:37.803Z"
   },
   {
    "duration": 5,
    "start_time": "2022-05-12T19:02:37.995Z"
   },
   {
    "duration": 10,
    "start_time": "2022-05-12T19:02:38.001Z"
   },
   {
    "duration": 30,
    "start_time": "2022-05-12T19:02:38.013Z"
   },
   {
    "duration": 34,
    "start_time": "2022-05-12T19:02:38.044Z"
   },
   {
    "duration": 11397,
    "start_time": "2022-05-12T19:02:38.079Z"
   },
   {
    "duration": 6932,
    "start_time": "2022-05-12T19:32:27.043Z"
   },
   {
    "duration": 438,
    "start_time": "2022-05-12T19:37:04.554Z"
   },
   {
    "duration": 74,
    "start_time": "2022-05-12T19:41:38.705Z"
   },
   {
    "duration": 17,
    "start_time": "2022-05-12T19:41:53.081Z"
   },
   {
    "duration": 18,
    "start_time": "2022-05-12T19:42:15.721Z"
   },
   {
    "duration": 91,
    "start_time": "2022-05-12T19:42:50.368Z"
   },
   {
    "duration": 30,
    "start_time": "2022-05-12T19:42:57.730Z"
   },
   {
    "duration": 10,
    "start_time": "2022-05-12T19:43:06.631Z"
   },
   {
    "duration": 16,
    "start_time": "2022-05-12T19:46:21.046Z"
   },
   {
    "duration": 23,
    "start_time": "2022-05-12T19:48:34.646Z"
   },
   {
    "duration": 53,
    "start_time": "2022-05-12T19:48:56.017Z"
   },
   {
    "duration": 34,
    "start_time": "2022-05-12T19:51:00.002Z"
   },
   {
    "duration": 10,
    "start_time": "2022-05-12T19:58:11.993Z"
   },
   {
    "duration": 31,
    "start_time": "2022-05-12T20:00:20.964Z"
   },
   {
    "duration": 33,
    "start_time": "2022-05-12T20:01:18.889Z"
   },
   {
    "duration": 136,
    "start_time": "2022-05-12T20:02:02.122Z"
   },
   {
    "duration": 10,
    "start_time": "2022-05-12T20:02:12.692Z"
   },
   {
    "duration": 1558,
    "start_time": "2022-05-12T20:55:42.506Z"
   },
   {
    "duration": 13,
    "start_time": "2022-05-12T20:57:21.373Z"
   },
   {
    "duration": 13,
    "start_time": "2022-05-12T20:58:34.816Z"
   },
   {
    "duration": 9,
    "start_time": "2022-05-12T20:58:58.120Z"
   },
   {
    "duration": 10,
    "start_time": "2022-05-12T21:00:08.498Z"
   },
   {
    "duration": 12,
    "start_time": "2022-05-12T21:00:43.569Z"
   },
   {
    "duration": 11,
    "start_time": "2022-05-12T21:02:52.402Z"
   },
   {
    "duration": 12,
    "start_time": "2022-05-12T21:12:15.644Z"
   },
   {
    "duration": 32,
    "start_time": "2022-05-12T21:12:58.765Z"
   },
   {
    "duration": 13,
    "start_time": "2022-05-12T21:17:19.084Z"
   },
   {
    "duration": 11,
    "start_time": "2022-05-12T21:18:52.300Z"
   },
   {
    "duration": 27,
    "start_time": "2022-05-12T21:18:59.684Z"
   },
   {
    "duration": 18,
    "start_time": "2022-05-12T21:19:05.464Z"
   },
   {
    "duration": 1043,
    "start_time": "2022-05-12T21:19:25.768Z"
   },
   {
    "duration": 40,
    "start_time": "2022-05-12T21:19:26.813Z"
   },
   {
    "duration": 12,
    "start_time": "2022-05-12T21:19:26.854Z"
   },
   {
    "duration": 9,
    "start_time": "2022-05-12T21:19:26.868Z"
   },
   {
    "duration": 22,
    "start_time": "2022-05-12T21:19:26.879Z"
   },
   {
    "duration": 12,
    "start_time": "2022-05-12T21:19:26.903Z"
   },
   {
    "duration": 9,
    "start_time": "2022-05-12T21:19:26.916Z"
   },
   {
    "duration": 8,
    "start_time": "2022-05-12T21:19:26.926Z"
   },
   {
    "duration": 11,
    "start_time": "2022-05-12T21:19:26.936Z"
   },
   {
    "duration": 30,
    "start_time": "2022-05-12T21:19:26.949Z"
   },
   {
    "duration": 13,
    "start_time": "2022-05-12T21:19:26.981Z"
   },
   {
    "duration": 17,
    "start_time": "2022-05-12T21:19:26.996Z"
   },
   {
    "duration": 280,
    "start_time": "2022-05-12T21:19:27.015Z"
   },
   {
    "duration": 253,
    "start_time": "2022-05-12T21:19:27.297Z"
   },
   {
    "duration": 18,
    "start_time": "2022-05-12T21:19:27.552Z"
   },
   {
    "duration": 164,
    "start_time": "2022-05-12T21:19:27.579Z"
   },
   {
    "duration": 300,
    "start_time": "2022-05-12T21:19:27.745Z"
   },
   {
    "duration": 199,
    "start_time": "2022-05-12T21:19:28.047Z"
   },
   {
    "duration": 345,
    "start_time": "2022-05-12T21:19:28.248Z"
   },
   {
    "duration": 112,
    "start_time": "2022-05-12T21:19:28.595Z"
   },
   {
    "duration": 4,
    "start_time": "2022-05-12T21:19:28.708Z"
   },
   {
    "duration": 135,
    "start_time": "2022-05-12T21:19:28.714Z"
   },
   {
    "duration": 4,
    "start_time": "2022-05-12T21:19:28.850Z"
   },
   {
    "duration": 18,
    "start_time": "2022-05-12T21:19:28.856Z"
   },
   {
    "duration": 21,
    "start_time": "2022-05-12T21:19:28.881Z"
   },
   {
    "duration": 31,
    "start_time": "2022-05-12T21:19:28.904Z"
   },
   {
    "duration": 16,
    "start_time": "2022-05-12T21:19:28.937Z"
   },
   {
    "duration": 34,
    "start_time": "2022-05-12T21:19:28.977Z"
   },
   {
    "duration": 9,
    "start_time": "2022-05-12T21:19:29.013Z"
   },
   {
    "duration": 10,
    "start_time": "2022-05-12T21:19:29.023Z"
   },
   {
    "duration": 58,
    "start_time": "2022-05-12T21:19:29.034Z"
   },
   {
    "duration": 13,
    "start_time": "2022-05-12T21:19:29.094Z"
   },
   {
    "duration": 10,
    "start_time": "2022-05-12T21:20:10.786Z"
   },
   {
    "duration": 27,
    "start_time": "2022-05-12T21:20:14.291Z"
   },
   {
    "duration": 14,
    "start_time": "2022-05-12T21:20:17.601Z"
   },
   {
    "duration": 1094,
    "start_time": "2022-05-12T21:29:00.656Z"
   },
   {
    "duration": 52,
    "start_time": "2022-05-12T21:29:01.751Z"
   },
   {
    "duration": 12,
    "start_time": "2022-05-12T21:29:01.805Z"
   },
   {
    "duration": 3,
    "start_time": "2022-05-12T21:29:01.820Z"
   },
   {
    "duration": 13,
    "start_time": "2022-05-12T21:29:01.825Z"
   },
   {
    "duration": 12,
    "start_time": "2022-05-12T21:29:01.840Z"
   },
   {
    "duration": 11,
    "start_time": "2022-05-12T21:29:01.854Z"
   },
   {
    "duration": 13,
    "start_time": "2022-05-12T21:29:01.874Z"
   },
   {
    "duration": 11,
    "start_time": "2022-05-12T21:29:01.888Z"
   },
   {
    "duration": 9,
    "start_time": "2022-05-12T21:29:01.902Z"
   },
   {
    "duration": 11,
    "start_time": "2022-05-12T21:29:01.912Z"
   },
   {
    "duration": 21,
    "start_time": "2022-05-12T21:29:01.925Z"
   },
   {
    "duration": 290,
    "start_time": "2022-05-12T21:29:01.948Z"
   },
   {
    "duration": 264,
    "start_time": "2022-05-12T21:29:02.240Z"
   },
   {
    "duration": 7,
    "start_time": "2022-05-12T21:29:02.505Z"
   },
   {
    "duration": 184,
    "start_time": "2022-05-12T21:29:02.514Z"
   },
   {
    "duration": 265,
    "start_time": "2022-05-12T21:29:02.699Z"
   },
   {
    "duration": 204,
    "start_time": "2022-05-12T21:29:02.965Z"
   },
   {
    "duration": 330,
    "start_time": "2022-05-12T21:29:03.172Z"
   },
   {
    "duration": 109,
    "start_time": "2022-05-12T21:29:03.504Z"
   },
   {
    "duration": 5,
    "start_time": "2022-05-12T21:29:03.614Z"
   },
   {
    "duration": 135,
    "start_time": "2022-05-12T21:29:03.620Z"
   },
   {
    "duration": 4,
    "start_time": "2022-05-12T21:29:03.757Z"
   },
   {
    "duration": 15,
    "start_time": "2022-05-12T21:29:03.763Z"
   },
   {
    "duration": 20,
    "start_time": "2022-05-12T21:29:03.781Z"
   },
   {
    "duration": 31,
    "start_time": "2022-05-12T21:29:03.803Z"
   },
   {
    "duration": 43,
    "start_time": "2022-05-12T21:29:03.835Z"
   },
   {
    "duration": 33,
    "start_time": "2022-05-12T21:29:03.882Z"
   },
   {
    "duration": 10,
    "start_time": "2022-05-12T21:29:03.916Z"
   },
   {
    "duration": 10,
    "start_time": "2022-05-12T21:29:03.928Z"
   },
   {
    "duration": 57,
    "start_time": "2022-05-12T21:29:03.939Z"
   },
   {
    "duration": 12,
    "start_time": "2022-05-12T21:29:03.998Z"
   },
   {
    "duration": 69,
    "start_time": "2022-05-13T08:21:52.727Z"
   },
   {
    "duration": 1714,
    "start_time": "2022-05-13T08:22:00.409Z"
   },
   {
    "duration": 39,
    "start_time": "2022-05-13T08:22:02.126Z"
   },
   {
    "duration": 17,
    "start_time": "2022-05-13T08:22:02.167Z"
   },
   {
    "duration": 10,
    "start_time": "2022-05-13T08:22:02.186Z"
   },
   {
    "duration": 20,
    "start_time": "2022-05-13T08:22:02.198Z"
   },
   {
    "duration": 32,
    "start_time": "2022-05-13T08:22:02.221Z"
   },
   {
    "duration": 17,
    "start_time": "2022-05-13T08:22:02.256Z"
   },
   {
    "duration": 14,
    "start_time": "2022-05-13T08:22:02.275Z"
   },
   {
    "duration": 16,
    "start_time": "2022-05-13T08:22:02.291Z"
   },
   {
    "duration": 44,
    "start_time": "2022-05-13T08:22:02.310Z"
   },
   {
    "duration": 16,
    "start_time": "2022-05-13T08:22:02.356Z"
   },
   {
    "duration": 30,
    "start_time": "2022-05-13T08:22:02.374Z"
   },
   {
    "duration": 494,
    "start_time": "2022-05-13T08:22:02.407Z"
   },
   {
    "duration": 636,
    "start_time": "2022-05-13T08:22:02.903Z"
   },
   {
    "duration": 15,
    "start_time": "2022-05-13T08:22:03.541Z"
   },
   {
    "duration": 524,
    "start_time": "2022-05-13T08:22:03.559Z"
   },
   {
    "duration": 600,
    "start_time": "2022-05-13T08:22:04.086Z"
   },
   {
    "duration": 520,
    "start_time": "2022-05-13T08:22:04.689Z"
   },
   {
    "duration": 644,
    "start_time": "2022-05-13T08:22:05.212Z"
   },
   {
    "duration": 282,
    "start_time": "2022-05-13T08:22:05.859Z"
   },
   {
    "duration": 12,
    "start_time": "2022-05-13T08:22:06.145Z"
   },
   {
    "duration": 359,
    "start_time": "2022-05-13T08:22:06.160Z"
   },
   {
    "duration": 7,
    "start_time": "2022-05-13T08:22:06.522Z"
   },
   {
    "duration": 33,
    "start_time": "2022-05-13T08:22:06.531Z"
   },
   {
    "duration": 41,
    "start_time": "2022-05-13T08:22:06.567Z"
   },
   {
    "duration": 102,
    "start_time": "2022-05-13T08:22:06.612Z"
   },
   {
    "duration": 43,
    "start_time": "2022-05-13T08:22:06.716Z"
   },
   {
    "duration": 50,
    "start_time": "2022-05-13T08:22:06.765Z"
   },
   {
    "duration": 41,
    "start_time": "2022-05-13T08:22:06.817Z"
   },
   {
    "duration": 22,
    "start_time": "2022-05-13T08:22:06.860Z"
   },
   {
    "duration": 67,
    "start_time": "2022-05-13T08:22:06.885Z"
   },
   {
    "duration": 23,
    "start_time": "2022-05-13T08:22:06.955Z"
   },
   {
    "duration": 16,
    "start_time": "2022-05-13T08:41:54.172Z"
   },
   {
    "duration": 1478,
    "start_time": "2022-05-13T08:43:13.614Z"
   },
   {
    "duration": 39,
    "start_time": "2022-05-13T08:43:15.095Z"
   },
   {
    "duration": 19,
    "start_time": "2022-05-13T08:43:15.136Z"
   },
   {
    "duration": 4,
    "start_time": "2022-05-13T08:43:15.159Z"
   },
   {
    "duration": 19,
    "start_time": "2022-05-13T08:43:15.166Z"
   },
   {
    "duration": 18,
    "start_time": "2022-05-13T08:43:15.188Z"
   },
   {
    "duration": 58,
    "start_time": "2022-05-13T08:43:15.208Z"
   },
   {
    "duration": 14,
    "start_time": "2022-05-13T08:43:15.269Z"
   },
   {
    "duration": 20,
    "start_time": "2022-05-13T08:43:15.285Z"
   },
   {
    "duration": 12,
    "start_time": "2022-05-13T08:43:15.309Z"
   },
   {
    "duration": 15,
    "start_time": "2022-05-13T08:43:15.352Z"
   },
   {
    "duration": 31,
    "start_time": "2022-05-13T08:43:15.370Z"
   },
   {
    "duration": 493,
    "start_time": "2022-05-13T08:43:15.403Z"
   },
   {
    "duration": 432,
    "start_time": "2022-05-13T08:43:15.899Z"
   },
   {
    "duration": 19,
    "start_time": "2022-05-13T08:43:16.334Z"
   },
   {
    "duration": 291,
    "start_time": "2022-05-13T08:43:16.356Z"
   },
   {
    "duration": 382,
    "start_time": "2022-05-13T08:43:16.652Z"
   },
   {
    "duration": 362,
    "start_time": "2022-05-13T08:43:17.037Z"
   },
   {
    "duration": 485,
    "start_time": "2022-05-13T08:43:17.401Z"
   },
   {
    "duration": 180,
    "start_time": "2022-05-13T08:43:17.888Z"
   },
   {
    "duration": 7,
    "start_time": "2022-05-13T08:43:18.070Z"
   },
   {
    "duration": 240,
    "start_time": "2022-05-13T08:43:18.079Z"
   },
   {
    "duration": 6,
    "start_time": "2022-05-13T08:43:18.321Z"
   },
   {
    "duration": 28,
    "start_time": "2022-05-13T08:43:18.330Z"
   },
   {
    "duration": 22,
    "start_time": "2022-05-13T08:43:18.360Z"
   },
   {
    "duration": 81,
    "start_time": "2022-05-13T08:43:18.384Z"
   },
   {
    "duration": 25,
    "start_time": "2022-05-13T08:43:18.467Z"
   },
   {
    "duration": 70,
    "start_time": "2022-05-13T08:43:18.496Z"
   },
   {
    "duration": 14,
    "start_time": "2022-05-13T08:43:18.568Z"
   },
   {
    "duration": 15,
    "start_time": "2022-05-13T08:43:18.584Z"
   },
   {
    "duration": 69,
    "start_time": "2022-05-13T08:43:18.601Z"
   },
   {
    "duration": 20,
    "start_time": "2022-05-13T08:43:18.673Z"
   },
   {
    "duration": 34,
    "start_time": "2022-05-13T08:53:01.325Z"
   },
   {
    "duration": 32,
    "start_time": "2022-05-13T08:53:22.483Z"
   },
   {
    "duration": 22,
    "start_time": "2022-05-13T09:12:16.473Z"
   },
   {
    "duration": 380,
    "start_time": "2022-05-13T09:13:28.043Z"
   },
   {
    "duration": 414,
    "start_time": "2022-05-13T09:20:53.549Z"
   },
   {
    "duration": 27,
    "start_time": "2022-05-13T09:26:14.014Z"
   },
   {
    "duration": 347,
    "start_time": "2022-05-13T09:27:58.364Z"
   },
   {
    "duration": 434,
    "start_time": "2022-05-13T09:33:33.969Z"
   },
   {
    "duration": 166,
    "start_time": "2022-05-13T09:48:03.838Z"
   },
   {
    "duration": 6,
    "start_time": "2022-05-13T09:50:23.244Z"
   },
   {
    "duration": 206,
    "start_time": "2022-05-13T10:32:03.632Z"
   },
   {
    "duration": 205,
    "start_time": "2022-05-13T10:32:23.284Z"
   },
   {
    "duration": 15,
    "start_time": "2022-05-13T10:32:25.939Z"
   },
   {
    "duration": 5,
    "start_time": "2022-05-13T10:33:33.353Z"
   },
   {
    "duration": 11,
    "start_time": "2022-05-13T10:36:55.567Z"
   },
   {
    "duration": 10,
    "start_time": "2022-05-13T10:37:57.578Z"
   },
   {
    "duration": 21,
    "start_time": "2022-05-13T10:42:42.132Z"
   },
   {
    "duration": 11,
    "start_time": "2022-05-13T10:43:31.937Z"
   },
   {
    "duration": 15,
    "start_time": "2022-05-13T10:55:42.547Z"
   },
   {
    "duration": 2809,
    "start_time": "2022-05-13T10:57:37.760Z"
   },
   {
    "duration": 7,
    "start_time": "2022-05-13T10:57:59.623Z"
   },
   {
    "duration": 16,
    "start_time": "2022-05-13T10:58:37.046Z"
   },
   {
    "duration": 18,
    "start_time": "2022-05-13T10:59:23.462Z"
   },
   {
    "duration": 17,
    "start_time": "2022-05-13T11:01:39.019Z"
   },
   {
    "duration": 7,
    "start_time": "2022-05-13T11:01:41.457Z"
   },
   {
    "duration": 12,
    "start_time": "2022-05-13T11:03:10.913Z"
   },
   {
    "duration": 6,
    "start_time": "2022-05-13T11:03:21.963Z"
   },
   {
    "duration": 138,
    "start_time": "2022-05-13T13:00:24.851Z"
   },
   {
    "duration": 7,
    "start_time": "2022-05-13T13:01:40.183Z"
   },
   {
    "duration": 8,
    "start_time": "2022-05-13T13:02:16.700Z"
   },
   {
    "duration": 7,
    "start_time": "2022-05-13T13:02:26.226Z"
   },
   {
    "duration": 17,
    "start_time": "2022-05-13T13:11:01.106Z"
   },
   {
    "duration": 9,
    "start_time": "2022-05-13T13:12:03.193Z"
   },
   {
    "duration": 37,
    "start_time": "2022-05-13T13:14:08.913Z"
   },
   {
    "duration": 23,
    "start_time": "2022-05-13T13:15:44.434Z"
   },
   {
    "duration": 1403,
    "start_time": "2022-05-13T13:16:00.899Z"
   },
   {
    "duration": 41,
    "start_time": "2022-05-13T13:16:02.304Z"
   },
   {
    "duration": 15,
    "start_time": "2022-05-13T13:16:02.347Z"
   },
   {
    "duration": 5,
    "start_time": "2022-05-13T13:16:02.365Z"
   },
   {
    "duration": 28,
    "start_time": "2022-05-13T13:16:02.372Z"
   },
   {
    "duration": 28,
    "start_time": "2022-05-13T13:16:02.403Z"
   },
   {
    "duration": 27,
    "start_time": "2022-05-13T13:16:02.433Z"
   },
   {
    "duration": 13,
    "start_time": "2022-05-13T13:16:02.462Z"
   },
   {
    "duration": 27,
    "start_time": "2022-05-13T13:16:02.477Z"
   },
   {
    "duration": 26,
    "start_time": "2022-05-13T13:16:02.508Z"
   },
   {
    "duration": 27,
    "start_time": "2022-05-13T13:16:02.536Z"
   },
   {
    "duration": 38,
    "start_time": "2022-05-13T13:16:02.565Z"
   },
   {
    "duration": 466,
    "start_time": "2022-05-13T13:16:02.605Z"
   },
   {
    "duration": 22,
    "start_time": "2022-05-13T13:16:03.073Z"
   },
   {
    "duration": 466,
    "start_time": "2022-05-13T13:16:03.097Z"
   },
   {
    "duration": 9,
    "start_time": "2022-05-13T13:16:03.565Z"
   },
   {
    "duration": 309,
    "start_time": "2022-05-13T13:16:03.576Z"
   },
   {
    "duration": 369,
    "start_time": "2022-05-13T13:16:03.887Z"
   },
   {
    "duration": 29,
    "start_time": "2022-05-13T13:16:04.258Z"
   },
   {
    "duration": 355,
    "start_time": "2022-05-13T13:16:04.289Z"
   },
   {
    "duration": 459,
    "start_time": "2022-05-13T13:16:04.647Z"
   },
   {
    "duration": 184,
    "start_time": "2022-05-13T13:16:05.108Z"
   },
   {
    "duration": 6,
    "start_time": "2022-05-13T13:16:05.294Z"
   },
   {
    "duration": 16,
    "start_time": "2022-05-13T13:16:05.302Z"
   },
   {
    "duration": 235,
    "start_time": "2022-05-13T13:16:05.320Z"
   },
   {
    "duration": 6,
    "start_time": "2022-05-13T13:16:05.557Z"
   },
   {
    "duration": 14,
    "start_time": "2022-05-13T13:16:05.565Z"
   },
   {
    "duration": 23,
    "start_time": "2022-05-13T13:16:05.586Z"
   },
   {
    "duration": 49,
    "start_time": "2022-05-13T13:16:05.611Z"
   },
   {
    "duration": 57,
    "start_time": "2022-05-13T13:16:05.662Z"
   },
   {
    "duration": 54,
    "start_time": "2022-05-13T13:16:05.721Z"
   },
   {
    "duration": 76,
    "start_time": "2022-05-13T13:16:05.778Z"
   },
   {
    "duration": 16,
    "start_time": "2022-05-13T13:16:05.857Z"
   },
   {
    "duration": 29,
    "start_time": "2022-05-13T13:16:05.875Z"
   },
   {
    "duration": 41,
    "start_time": "2022-05-13T13:16:05.906Z"
   },
   {
    "duration": 26,
    "start_time": "2022-05-13T13:16:05.950Z"
   },
   {
    "duration": 46,
    "start_time": "2022-05-13T13:16:05.978Z"
   },
   {
    "duration": 25,
    "start_time": "2022-05-13T13:16:06.027Z"
   },
   {
    "duration": 40,
    "start_time": "2022-05-13T18:11:32.200Z"
   },
   {
    "duration": 135,
    "start_time": "2022-05-13T18:13:21.091Z"
   },
   {
    "duration": 28,
    "start_time": "2022-05-13T18:13:49.436Z"
   },
   {
    "duration": 1717,
    "start_time": "2022-05-13T18:35:55.383Z"
   },
   {
    "duration": 41,
    "start_time": "2022-05-13T18:35:57.102Z"
   },
   {
    "duration": 20,
    "start_time": "2022-05-13T18:35:57.145Z"
   },
   {
    "duration": 20,
    "start_time": "2022-05-13T18:35:57.169Z"
   },
   {
    "duration": 20,
    "start_time": "2022-05-13T18:35:57.192Z"
   },
   {
    "duration": 18,
    "start_time": "2022-05-13T18:35:57.215Z"
   },
   {
    "duration": 39,
    "start_time": "2022-05-13T18:35:57.236Z"
   },
   {
    "duration": 21,
    "start_time": "2022-05-13T18:35:57.278Z"
   },
   {
    "duration": 17,
    "start_time": "2022-05-13T18:35:57.301Z"
   },
   {
    "duration": 41,
    "start_time": "2022-05-13T18:35:57.321Z"
   },
   {
    "duration": 26,
    "start_time": "2022-05-13T18:35:57.364Z"
   },
   {
    "duration": 31,
    "start_time": "2022-05-13T18:35:57.392Z"
   },
   {
    "duration": 498,
    "start_time": "2022-05-13T18:35:57.425Z"
   },
   {
    "duration": 31,
    "start_time": "2022-05-13T18:35:57.926Z"
   },
   {
    "duration": 476,
    "start_time": "2022-05-13T18:35:57.959Z"
   },
   {
    "duration": 19,
    "start_time": "2022-05-13T18:35:58.438Z"
   },
   {
    "duration": 314,
    "start_time": "2022-05-13T18:35:58.459Z"
   },
   {
    "duration": 371,
    "start_time": "2022-05-13T18:35:58.778Z"
   },
   {
    "duration": 28,
    "start_time": "2022-05-13T18:35:59.151Z"
   },
   {
    "duration": 387,
    "start_time": "2022-05-13T18:35:59.182Z"
   },
   {
    "duration": 447,
    "start_time": "2022-05-13T18:35:59.572Z"
   },
   {
    "duration": 194,
    "start_time": "2022-05-13T18:36:00.022Z"
   },
   {
    "duration": 7,
    "start_time": "2022-05-13T18:36:00.219Z"
   },
   {
    "duration": 47,
    "start_time": "2022-05-13T18:36:00.228Z"
   },
   {
    "duration": 226,
    "start_time": "2022-05-13T18:36:00.278Z"
   },
   {
    "duration": 6,
    "start_time": "2022-05-13T18:36:00.507Z"
   },
   {
    "duration": 29,
    "start_time": "2022-05-13T18:36:00.515Z"
   },
   {
    "duration": 33,
    "start_time": "2022-05-13T18:36:00.561Z"
   },
   {
    "duration": 19,
    "start_time": "2022-05-13T18:36:00.598Z"
   },
   {
    "duration": 71,
    "start_time": "2022-05-13T18:36:00.620Z"
   },
   {
    "duration": 27,
    "start_time": "2022-05-13T18:36:00.693Z"
   },
   {
    "duration": 82,
    "start_time": "2022-05-13T18:36:00.723Z"
   },
   {
    "duration": 16,
    "start_time": "2022-05-13T18:36:00.808Z"
   },
   {
    "duration": 41,
    "start_time": "2022-05-13T18:36:00.827Z"
   },
   {
    "duration": 22,
    "start_time": "2022-05-13T18:36:00.871Z"
   },
   {
    "duration": 11,
    "start_time": "2022-05-13T18:36:00.895Z"
   },
   {
    "duration": 58,
    "start_time": "2022-05-13T18:36:00.909Z"
   },
   {
    "duration": 24,
    "start_time": "2022-05-13T18:36:00.969Z"
   },
   {
    "duration": 1336,
    "start_time": "2022-05-14T14:57:34.766Z"
   },
   {
    "duration": 67,
    "start_time": "2022-05-14T14:57:36.105Z"
   },
   {
    "duration": 13,
    "start_time": "2022-05-14T14:57:36.174Z"
   },
   {
    "duration": 3,
    "start_time": "2022-05-14T14:57:36.189Z"
   },
   {
    "duration": 18,
    "start_time": "2022-05-14T14:57:36.195Z"
   },
   {
    "duration": 21,
    "start_time": "2022-05-14T14:57:36.215Z"
   },
   {
    "duration": 13,
    "start_time": "2022-05-14T14:57:36.238Z"
   },
   {
    "duration": 10,
    "start_time": "2022-05-14T14:57:36.253Z"
   },
   {
    "duration": 13,
    "start_time": "2022-05-14T14:57:36.265Z"
   },
   {
    "duration": 14,
    "start_time": "2022-05-14T14:57:36.281Z"
   },
   {
    "duration": 31,
    "start_time": "2022-05-14T14:57:36.298Z"
   },
   {
    "duration": 22,
    "start_time": "2022-05-14T14:57:36.331Z"
   },
   {
    "duration": 316,
    "start_time": "2022-05-14T14:57:36.355Z"
   },
   {
    "duration": 17,
    "start_time": "2022-05-14T14:57:36.674Z"
   },
   {
    "duration": 313,
    "start_time": "2022-05-14T14:57:36.692Z"
   },
   {
    "duration": 8,
    "start_time": "2022-05-14T14:57:37.007Z"
   },
   {
    "duration": 197,
    "start_time": "2022-05-14T14:57:37.023Z"
   },
   {
    "duration": 354,
    "start_time": "2022-05-14T14:57:37.223Z"
   },
   {
    "duration": 21,
    "start_time": "2022-05-14T14:57:37.579Z"
   },
   {
    "duration": 229,
    "start_time": "2022-05-14T14:57:37.602Z"
   },
   {
    "duration": 332,
    "start_time": "2022-05-14T14:57:37.833Z"
   },
   {
    "duration": 115,
    "start_time": "2022-05-14T14:57:38.167Z"
   },
   {
    "duration": 5,
    "start_time": "2022-05-14T14:57:38.284Z"
   },
   {
    "duration": 12,
    "start_time": "2022-05-14T14:57:38.291Z"
   },
   {
    "duration": 135,
    "start_time": "2022-05-14T14:57:38.322Z"
   },
   {
    "duration": 4,
    "start_time": "2022-05-14T14:57:38.460Z"
   },
   {
    "duration": 10,
    "start_time": "2022-05-14T14:57:38.466Z"
   },
   {
    "duration": 15,
    "start_time": "2022-05-14T14:57:38.478Z"
   },
   {
    "duration": 34,
    "start_time": "2022-05-14T14:57:38.494Z"
   },
   {
    "duration": 34,
    "start_time": "2022-05-14T14:57:38.530Z"
   },
   {
    "duration": 18,
    "start_time": "2022-05-14T14:57:38.565Z"
   },
   {
    "duration": 63,
    "start_time": "2022-05-14T14:57:38.584Z"
   },
   {
    "duration": 10,
    "start_time": "2022-05-14T14:57:38.649Z"
   },
   {
    "duration": 11,
    "start_time": "2022-05-14T14:57:38.660Z"
   },
   {
    "duration": 7,
    "start_time": "2022-05-14T14:57:38.672Z"
   },
   {
    "duration": 7,
    "start_time": "2022-05-14T14:57:38.680Z"
   },
   {
    "duration": 58,
    "start_time": "2022-05-14T14:57:38.688Z"
   },
   {
    "duration": 13,
    "start_time": "2022-05-14T14:57:38.747Z"
   },
   {
    "duration": 51,
    "start_time": "2022-05-16T12:58:40.492Z"
   },
   {
    "duration": 1345,
    "start_time": "2022-05-16T12:58:49.880Z"
   },
   {
    "duration": 45,
    "start_time": "2022-05-16T12:58:51.229Z"
   },
   {
    "duration": 19,
    "start_time": "2022-05-16T12:58:51.276Z"
   },
   {
    "duration": 5,
    "start_time": "2022-05-16T12:58:51.298Z"
   },
   {
    "duration": 24,
    "start_time": "2022-05-16T12:58:51.305Z"
   },
   {
    "duration": 18,
    "start_time": "2022-05-16T12:58:51.332Z"
   },
   {
    "duration": 11,
    "start_time": "2022-05-16T12:58:51.354Z"
   },
   {
    "duration": 16,
    "start_time": "2022-05-16T12:58:51.367Z"
   },
   {
    "duration": 19,
    "start_time": "2022-05-16T12:58:51.386Z"
   },
   {
    "duration": 12,
    "start_time": "2022-05-16T12:58:51.408Z"
   },
   {
    "duration": 34,
    "start_time": "2022-05-16T12:58:51.422Z"
   },
   {
    "duration": 33,
    "start_time": "2022-05-16T12:58:51.459Z"
   },
   {
    "duration": 463,
    "start_time": "2022-05-16T12:58:51.494Z"
   },
   {
    "duration": 17,
    "start_time": "2022-05-16T12:58:51.959Z"
   },
   {
    "duration": 460,
    "start_time": "2022-05-16T12:58:51.978Z"
   },
   {
    "duration": 8,
    "start_time": "2022-05-16T12:58:52.443Z"
   },
   {
    "duration": 275,
    "start_time": "2022-05-16T12:58:52.453Z"
   },
   {
    "duration": 325,
    "start_time": "2022-05-16T12:58:52.730Z"
   },
   {
    "duration": 28,
    "start_time": "2022-05-16T12:58:53.057Z"
   },
   {
    "duration": 235,
    "start_time": "2022-05-16T12:58:53.087Z"
   },
   {
    "duration": 345,
    "start_time": "2022-05-16T12:58:53.324Z"
   },
   {
    "duration": 183,
    "start_time": "2022-05-16T12:58:53.671Z"
   },
   {
    "duration": 4,
    "start_time": "2022-05-16T12:58:53.856Z"
   },
   {
    "duration": 16,
    "start_time": "2022-05-16T12:58:53.862Z"
   },
   {
    "duration": 150,
    "start_time": "2022-05-16T12:58:53.879Z"
   },
   {
    "duration": 12,
    "start_time": "2022-05-16T12:58:54.031Z"
   },
   {
    "duration": 8,
    "start_time": "2022-05-16T12:58:54.045Z"
   },
   {
    "duration": 21,
    "start_time": "2022-05-16T12:58:54.056Z"
   },
   {
    "duration": 13,
    "start_time": "2022-05-16T12:58:54.079Z"
   },
   {
    "duration": 61,
    "start_time": "2022-05-16T12:58:54.094Z"
   },
   {
    "duration": 26,
    "start_time": "2022-05-16T12:58:54.157Z"
   },
   {
    "duration": 63,
    "start_time": "2022-05-16T12:58:54.185Z"
   },
   {
    "duration": 15,
    "start_time": "2022-05-16T12:58:54.251Z"
   },
   {
    "duration": 15,
    "start_time": "2022-05-16T12:58:54.268Z"
   },
   {
    "duration": 8,
    "start_time": "2022-05-16T12:58:54.285Z"
   },
   {
    "duration": 8,
    "start_time": "2022-05-16T12:58:54.295Z"
   },
   {
    "duration": 63,
    "start_time": "2022-05-16T12:58:54.305Z"
   },
   {
    "duration": 18,
    "start_time": "2022-05-16T12:58:54.370Z"
   },
   {
    "duration": 9,
    "start_time": "2022-05-16T13:07:40.198Z"
   },
   {
    "duration": 8,
    "start_time": "2022-05-16T13:07:49.449Z"
   },
   {
    "duration": 97,
    "start_time": "2022-05-16T13:08:49.928Z"
   },
   {
    "duration": 4,
    "start_time": "2022-05-16T13:08:56.243Z"
   },
   {
    "duration": 159,
    "start_time": "2022-05-16T13:09:16.763Z"
   },
   {
    "duration": 156,
    "start_time": "2022-05-16T13:09:31.695Z"
   },
   {
    "duration": 4,
    "start_time": "2022-05-16T13:09:48.812Z"
   },
   {
    "duration": 141,
    "start_time": "2022-05-16T13:10:15.076Z"
   },
   {
    "duration": 133,
    "start_time": "2022-05-16T13:10:38.796Z"
   },
   {
    "duration": 1100,
    "start_time": "2022-05-17T05:58:46.083Z"
   },
   {
    "duration": 44,
    "start_time": "2022-05-17T05:58:47.186Z"
   },
   {
    "duration": 11,
    "start_time": "2022-05-17T05:58:47.232Z"
   },
   {
    "duration": 4,
    "start_time": "2022-05-17T05:58:47.245Z"
   },
   {
    "duration": 15,
    "start_time": "2022-05-17T05:58:47.250Z"
   },
   {
    "duration": 16,
    "start_time": "2022-05-17T05:58:47.266Z"
   },
   {
    "duration": 10,
    "start_time": "2022-05-17T05:58:47.284Z"
   },
   {
    "duration": 10,
    "start_time": "2022-05-17T05:58:47.295Z"
   },
   {
    "duration": 39,
    "start_time": "2022-05-17T05:58:47.307Z"
   },
   {
    "duration": 12,
    "start_time": "2022-05-17T05:58:47.349Z"
   },
   {
    "duration": 14,
    "start_time": "2022-05-17T05:58:47.362Z"
   },
   {
    "duration": 19,
    "start_time": "2022-05-17T05:58:47.378Z"
   },
   {
    "duration": 146,
    "start_time": "2022-05-17T05:58:47.398Z"
   },
   {
    "duration": 0,
    "start_time": "2022-05-17T05:58:47.547Z"
   },
   {
    "duration": 0,
    "start_time": "2022-05-17T05:58:47.548Z"
   },
   {
    "duration": 0,
    "start_time": "2022-05-17T05:58:47.550Z"
   },
   {
    "duration": 0,
    "start_time": "2022-05-17T05:58:47.551Z"
   },
   {
    "duration": 0,
    "start_time": "2022-05-17T05:58:47.552Z"
   },
   {
    "duration": 0,
    "start_time": "2022-05-17T05:58:47.554Z"
   },
   {
    "duration": 0,
    "start_time": "2022-05-17T05:58:47.555Z"
   },
   {
    "duration": 0,
    "start_time": "2022-05-17T05:58:47.556Z"
   },
   {
    "duration": 0,
    "start_time": "2022-05-17T05:58:47.558Z"
   },
   {
    "duration": 0,
    "start_time": "2022-05-17T05:58:47.559Z"
   },
   {
    "duration": 0,
    "start_time": "2022-05-17T05:58:47.561Z"
   },
   {
    "duration": 0,
    "start_time": "2022-05-17T05:58:47.562Z"
   },
   {
    "duration": 0,
    "start_time": "2022-05-17T05:58:47.564Z"
   },
   {
    "duration": 0,
    "start_time": "2022-05-17T05:58:47.566Z"
   },
   {
    "duration": 0,
    "start_time": "2022-05-17T05:58:47.568Z"
   },
   {
    "duration": 0,
    "start_time": "2022-05-17T05:58:47.569Z"
   },
   {
    "duration": 0,
    "start_time": "2022-05-17T05:58:47.570Z"
   },
   {
    "duration": 0,
    "start_time": "2022-05-17T05:58:47.572Z"
   },
   {
    "duration": 0,
    "start_time": "2022-05-17T05:58:47.574Z"
   },
   {
    "duration": 0,
    "start_time": "2022-05-17T05:58:47.575Z"
   },
   {
    "duration": 0,
    "start_time": "2022-05-17T05:58:47.577Z"
   },
   {
    "duration": 0,
    "start_time": "2022-05-17T05:58:47.578Z"
   },
   {
    "duration": 0,
    "start_time": "2022-05-17T05:58:47.580Z"
   },
   {
    "duration": 0,
    "start_time": "2022-05-17T05:58:47.581Z"
   },
   {
    "duration": 0,
    "start_time": "2022-05-17T05:58:47.582Z"
   },
   {
    "duration": 0,
    "start_time": "2022-05-17T05:58:47.583Z"
   },
   {
    "duration": 6,
    "start_time": "2022-05-17T06:03:02.416Z"
   },
   {
    "duration": 6,
    "start_time": "2022-05-17T06:04:40.138Z"
   },
   {
    "duration": 1280,
    "start_time": "2022-05-17T06:07:00.924Z"
   },
   {
    "duration": 42,
    "start_time": "2022-05-17T06:07:02.206Z"
   },
   {
    "duration": 13,
    "start_time": "2022-05-17T06:07:02.250Z"
   },
   {
    "duration": 3,
    "start_time": "2022-05-17T06:07:02.265Z"
   },
   {
    "duration": 15,
    "start_time": "2022-05-17T06:07:02.269Z"
   },
   {
    "duration": 17,
    "start_time": "2022-05-17T06:07:02.286Z"
   },
   {
    "duration": 11,
    "start_time": "2022-05-17T06:07:02.305Z"
   },
   {
    "duration": 26,
    "start_time": "2022-05-17T06:07:02.318Z"
   },
   {
    "duration": 21,
    "start_time": "2022-05-17T06:07:02.346Z"
   },
   {
    "duration": 8,
    "start_time": "2022-05-17T06:07:02.370Z"
   },
   {
    "duration": 13,
    "start_time": "2022-05-17T06:07:02.379Z"
   },
   {
    "duration": 16,
    "start_time": "2022-05-17T06:07:02.393Z"
   },
   {
    "duration": 10,
    "start_time": "2022-05-17T06:07:02.411Z"
   },
   {
    "duration": 32,
    "start_time": "2022-05-17T06:07:02.423Z"
   },
   {
    "duration": 285,
    "start_time": "2022-05-17T06:07:02.458Z"
   },
   {
    "duration": 15,
    "start_time": "2022-05-17T06:07:02.744Z"
   },
   {
    "duration": 271,
    "start_time": "2022-05-17T06:07:02.760Z"
   },
   {
    "duration": 6,
    "start_time": "2022-05-17T06:07:03.033Z"
   },
   {
    "duration": 189,
    "start_time": "2022-05-17T06:07:03.043Z"
   },
   {
    "duration": 282,
    "start_time": "2022-05-17T06:07:03.234Z"
   },
   {
    "duration": 31,
    "start_time": "2022-05-17T06:07:03.518Z"
   },
   {
    "duration": 202,
    "start_time": "2022-05-17T06:07:03.550Z"
   },
   {
    "duration": 314,
    "start_time": "2022-05-17T06:07:03.754Z"
   },
   {
    "duration": 108,
    "start_time": "2022-05-17T06:07:04.069Z"
   },
   {
    "duration": 4,
    "start_time": "2022-05-17T06:07:04.179Z"
   },
   {
    "duration": 16,
    "start_time": "2022-05-17T06:07:04.185Z"
   },
   {
    "duration": 120,
    "start_time": "2022-05-17T06:07:04.203Z"
   },
   {
    "duration": 4,
    "start_time": "2022-05-17T06:07:04.326Z"
   },
   {
    "duration": 8,
    "start_time": "2022-05-17T06:07:04.342Z"
   },
   {
    "duration": 18,
    "start_time": "2022-05-17T06:07:04.351Z"
   },
   {
    "duration": 9,
    "start_time": "2022-05-17T06:07:04.371Z"
   },
   {
    "duration": 34,
    "start_time": "2022-05-17T06:07:04.381Z"
   },
   {
    "duration": 35,
    "start_time": "2022-05-17T06:07:04.417Z"
   },
   {
    "duration": 38,
    "start_time": "2022-05-17T06:07:04.454Z"
   },
   {
    "duration": 12,
    "start_time": "2022-05-17T06:07:04.494Z"
   },
   {
    "duration": 37,
    "start_time": "2022-05-17T06:07:04.508Z"
   },
   {
    "duration": 7,
    "start_time": "2022-05-17T06:07:04.547Z"
   },
   {
    "duration": 7,
    "start_time": "2022-05-17T06:07:04.556Z"
   },
   {
    "duration": 27,
    "start_time": "2022-05-17T06:07:04.565Z"
   },
   {
    "duration": 12,
    "start_time": "2022-05-17T06:07:04.594Z"
   },
   {
    "duration": 70,
    "start_time": "2022-05-17T10:35:29.325Z"
   },
   {
    "duration": 1666,
    "start_time": "2022-05-17T10:35:37.250Z"
   },
   {
    "duration": 44,
    "start_time": "2022-05-17T10:35:38.918Z"
   },
   {
    "duration": 17,
    "start_time": "2022-05-17T10:35:38.964Z"
   },
   {
    "duration": 4,
    "start_time": "2022-05-17T10:35:38.983Z"
   },
   {
    "duration": 17,
    "start_time": "2022-05-17T10:35:38.990Z"
   },
   {
    "duration": 18,
    "start_time": "2022-05-17T10:35:39.009Z"
   },
   {
    "duration": 15,
    "start_time": "2022-05-17T10:35:39.056Z"
   },
   {
    "duration": 23,
    "start_time": "2022-05-17T10:35:39.073Z"
   },
   {
    "duration": 17,
    "start_time": "2022-05-17T10:35:39.098Z"
   },
   {
    "duration": 11,
    "start_time": "2022-05-17T10:35:39.117Z"
   },
   {
    "duration": 36,
    "start_time": "2022-05-17T10:35:39.130Z"
   },
   {
    "duration": 18,
    "start_time": "2022-05-17T10:35:39.169Z"
   },
   {
    "duration": 18,
    "start_time": "2022-05-17T10:35:39.189Z"
   },
   {
    "duration": 58,
    "start_time": "2022-05-17T10:35:39.214Z"
   },
   {
    "duration": 13,
    "start_time": "2022-05-17T10:35:39.274Z"
   },
   {
    "duration": 462,
    "start_time": "2022-05-17T10:35:39.289Z"
   },
   {
    "duration": 21,
    "start_time": "2022-05-17T10:35:39.756Z"
   },
   {
    "duration": 457,
    "start_time": "2022-05-17T10:35:39.780Z"
   },
   {
    "duration": 20,
    "start_time": "2022-05-17T10:35:40.240Z"
   },
   {
    "duration": 297,
    "start_time": "2022-05-17T10:35:40.262Z"
   },
   {
    "duration": 414,
    "start_time": "2022-05-17T10:35:40.561Z"
   },
   {
    "duration": 27,
    "start_time": "2022-05-17T10:35:40.977Z"
   },
   {
    "duration": 358,
    "start_time": "2022-05-17T10:35:41.006Z"
   },
   {
    "duration": 428,
    "start_time": "2022-05-17T10:35:41.367Z"
   },
   {
    "duration": 173,
    "start_time": "2022-05-17T10:35:41.797Z"
   },
   {
    "duration": 5,
    "start_time": "2022-05-17T10:35:41.972Z"
   },
   {
    "duration": 17,
    "start_time": "2022-05-17T10:35:41.979Z"
   },
   {
    "duration": 225,
    "start_time": "2022-05-17T10:35:41.998Z"
   },
   {
    "duration": 5,
    "start_time": "2022-05-17T10:35:42.225Z"
   },
   {
    "duration": 29,
    "start_time": "2022-05-17T10:35:42.233Z"
   },
   {
    "duration": 21,
    "start_time": "2022-05-17T10:35:42.265Z"
   },
   {
    "duration": 11,
    "start_time": "2022-05-17T10:35:42.289Z"
   },
   {
    "duration": 92,
    "start_time": "2022-05-17T10:35:42.302Z"
   },
   {
    "duration": 26,
    "start_time": "2022-05-17T10:35:42.397Z"
   },
   {
    "duration": 71,
    "start_time": "2022-05-17T10:35:42.425Z"
   },
   {
    "duration": 14,
    "start_time": "2022-05-17T10:35:42.498Z"
   },
   {
    "duration": 43,
    "start_time": "2022-05-17T10:35:42.514Z"
   },
   {
    "duration": 6,
    "start_time": "2022-05-17T10:35:42.559Z"
   },
   {
    "duration": 10,
    "start_time": "2022-05-17T10:35:42.567Z"
   },
   {
    "duration": 41,
    "start_time": "2022-05-17T10:35:42.579Z"
   },
   {
    "duration": 42,
    "start_time": "2022-05-17T10:35:42.625Z"
   },
   {
    "duration": 6,
    "start_time": "2022-05-17T10:36:36.261Z"
   },
   {
    "duration": 6,
    "start_time": "2022-05-17T10:36:58.516Z"
   },
   {
    "duration": 6,
    "start_time": "2022-05-17T10:37:26.178Z"
   },
   {
    "duration": 6,
    "start_time": "2022-05-17T10:37:44.719Z"
   },
   {
    "duration": 9,
    "start_time": "2022-05-17T12:22:15.429Z"
   },
   {
    "duration": 6,
    "start_time": "2022-05-17T12:22:33.412Z"
   },
   {
    "duration": 151,
    "start_time": "2022-05-17T12:23:02.951Z"
   },
   {
    "duration": 7,
    "start_time": "2022-05-17T12:23:19.967Z"
   },
   {
    "duration": 6,
    "start_time": "2022-05-17T12:25:19.148Z"
   },
   {
    "duration": 12,
    "start_time": "2022-05-17T12:29:50.823Z"
   },
   {
    "duration": 19,
    "start_time": "2022-05-17T12:30:21.441Z"
   },
   {
    "duration": 13,
    "start_time": "2022-05-17T12:39:59.956Z"
   },
   {
    "duration": 14,
    "start_time": "2022-05-17T13:27:59.692Z"
   },
   {
    "duration": 320,
    "start_time": "2022-05-17T13:55:40.718Z"
   },
   {
    "duration": 368,
    "start_time": "2022-05-17T13:56:11.334Z"
   },
   {
    "duration": 380,
    "start_time": "2022-05-17T13:59:49.041Z"
   },
   {
    "duration": 346,
    "start_time": "2022-05-17T14:00:14.931Z"
   },
   {
    "duration": 456,
    "start_time": "2022-05-17T14:00:29.023Z"
   },
   {
    "duration": 197,
    "start_time": "2022-05-17T14:03:31.554Z"
   },
   {
    "duration": 179,
    "start_time": "2022-05-17T14:13:42.427Z"
   },
   {
    "duration": 294,
    "start_time": "2022-05-17T14:14:34.225Z"
   },
   {
    "duration": 174,
    "start_time": "2022-05-17T14:15:26.370Z"
   },
   {
    "duration": 1537,
    "start_time": "2022-05-17T14:15:49.733Z"
   },
   {
    "duration": 43,
    "start_time": "2022-05-17T14:15:51.274Z"
   },
   {
    "duration": 16,
    "start_time": "2022-05-17T14:15:51.319Z"
   },
   {
    "duration": 9,
    "start_time": "2022-05-17T14:15:51.338Z"
   },
   {
    "duration": 22,
    "start_time": "2022-05-17T14:15:51.349Z"
   },
   {
    "duration": 28,
    "start_time": "2022-05-17T14:15:51.374Z"
   },
   {
    "duration": 15,
    "start_time": "2022-05-17T14:15:51.404Z"
   },
   {
    "duration": 17,
    "start_time": "2022-05-17T14:15:51.420Z"
   },
   {
    "duration": 31,
    "start_time": "2022-05-17T14:15:51.439Z"
   },
   {
    "duration": 16,
    "start_time": "2022-05-17T14:15:51.478Z"
   },
   {
    "duration": 10,
    "start_time": "2022-05-17T14:15:51.497Z"
   },
   {
    "duration": 15,
    "start_time": "2022-05-17T14:15:51.509Z"
   },
   {
    "duration": 54,
    "start_time": "2022-05-17T14:15:51.526Z"
   },
   {
    "duration": 35,
    "start_time": "2022-05-17T14:15:51.582Z"
   },
   {
    "duration": 6,
    "start_time": "2022-05-17T14:15:51.619Z"
   },
   {
    "duration": 8,
    "start_time": "2022-05-17T14:15:51.627Z"
   },
   {
    "duration": 25,
    "start_time": "2022-05-17T14:15:51.637Z"
   },
   {
    "duration": 26,
    "start_time": "2022-05-17T14:15:51.665Z"
   },
   {
    "duration": 13,
    "start_time": "2022-05-17T14:15:51.693Z"
   },
   {
    "duration": 510,
    "start_time": "2022-05-17T14:15:51.708Z"
   },
   {
    "duration": 41,
    "start_time": "2022-05-17T14:15:52.221Z"
   },
   {
    "duration": 514,
    "start_time": "2022-05-17T14:15:52.265Z"
   },
   {
    "duration": 10,
    "start_time": "2022-05-17T14:15:52.782Z"
   },
   {
    "duration": 356,
    "start_time": "2022-05-17T14:15:52.794Z"
   },
   {
    "duration": 410,
    "start_time": "2022-05-17T14:15:53.152Z"
   },
   {
    "duration": 34,
    "start_time": "2022-05-17T14:15:53.565Z"
   },
   {
    "duration": 426,
    "start_time": "2022-05-17T14:15:53.601Z"
   },
   {
    "duration": 527,
    "start_time": "2022-05-17T14:15:54.033Z"
   },
   {
    "duration": 224,
    "start_time": "2022-05-17T14:15:54.566Z"
   },
   {
    "duration": 5,
    "start_time": "2022-05-17T14:15:54.793Z"
   },
   {
    "duration": 21,
    "start_time": "2022-05-17T14:15:54.800Z"
   },
   {
    "duration": 261,
    "start_time": "2022-05-17T14:15:54.824Z"
   },
   {
    "duration": 6,
    "start_time": "2022-05-17T14:15:55.087Z"
   },
   {
    "duration": 14,
    "start_time": "2022-05-17T14:15:55.095Z"
   },
   {
    "duration": 49,
    "start_time": "2022-05-17T14:15:55.111Z"
   },
   {
    "duration": 23,
    "start_time": "2022-05-17T14:15:55.165Z"
   },
   {
    "duration": 50,
    "start_time": "2022-05-17T14:15:55.190Z"
   },
   {
    "duration": 32,
    "start_time": "2022-05-17T14:15:55.261Z"
   },
   {
    "duration": 64,
    "start_time": "2022-05-17T14:15:55.296Z"
   },
   {
    "duration": 22,
    "start_time": "2022-05-17T14:15:55.363Z"
   },
   {
    "duration": 17,
    "start_time": "2022-05-17T14:15:55.387Z"
   },
   {
    "duration": 7,
    "start_time": "2022-05-17T14:15:55.406Z"
   },
   {
    "duration": 45,
    "start_time": "2022-05-17T14:15:55.415Z"
   },
   {
    "duration": 47,
    "start_time": "2022-05-17T14:15:55.463Z"
   },
   {
    "duration": 18,
    "start_time": "2022-05-17T14:15:55.512Z"
   },
   {
    "duration": 451,
    "start_time": "2022-05-17T14:27:15.863Z"
   },
   {
    "duration": 16,
    "start_time": "2022-05-17T14:32:58.462Z"
   },
   {
    "duration": 16,
    "start_time": "2022-05-17T14:33:10.905Z"
   },
   {
    "duration": 476,
    "start_time": "2022-05-17T14:35:40.713Z"
   },
   {
    "duration": 396,
    "start_time": "2022-05-17T14:40:40.010Z"
   },
   {
    "duration": 402,
    "start_time": "2022-05-17T14:41:20.516Z"
   },
   {
    "duration": 251,
    "start_time": "2022-05-17T14:41:41.321Z"
   },
   {
    "duration": 235,
    "start_time": "2022-05-17T14:42:43.745Z"
   },
   {
    "duration": 235,
    "start_time": "2022-05-17T14:43:08.508Z"
   },
   {
    "duration": 243,
    "start_time": "2022-05-17T14:43:33.714Z"
   },
   {
    "duration": 249,
    "start_time": "2022-05-17T14:44:00.614Z"
   },
   {
    "duration": 243,
    "start_time": "2022-05-17T14:44:36.895Z"
   },
   {
    "duration": 255,
    "start_time": "2022-05-17T14:44:59.405Z"
   },
   {
    "duration": 255,
    "start_time": "2022-05-17T14:45:08.742Z"
   },
   {
    "duration": 354,
    "start_time": "2022-05-17T14:45:17.243Z"
   },
   {
    "duration": 245,
    "start_time": "2022-05-17T14:45:24.363Z"
   }
  ],
  "kernelspec": {
   "display_name": "Python 3 (ipykernel)",
   "language": "python",
   "name": "python3"
  },
  "language_info": {
   "codemirror_mode": {
    "name": "ipython",
    "version": 3
   },
   "file_extension": ".py",
   "mimetype": "text/x-python",
   "name": "python",
   "nbconvert_exporter": "python",
   "pygments_lexer": "ipython3",
   "version": "3.9.7"
  },
  "toc": {
   "base_numbering": 1,
   "nav_menu": {},
   "number_sections": false,
   "sideBar": true,
   "skip_h1_title": false,
   "title_cell": "Table of Contents",
   "title_sidebar": "Contents",
   "toc_cell": false,
   "toc_position": {},
   "toc_section_display": true,
   "toc_window_display": true
  }
 },
 "nbformat": 4,
 "nbformat_minor": 2
}
